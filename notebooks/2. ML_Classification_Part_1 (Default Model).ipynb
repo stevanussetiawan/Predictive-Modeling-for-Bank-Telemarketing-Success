{
 "cells": [
  {
   "cell_type": "markdown",
   "metadata": {},
   "source": [
    "<p style=\"font-size:40px\">Machine Learning Classification Part 1</p> <br>\n",
    "\n",
    "<p style=\"font-family:'Courier New'\">Pada jupyter notebook ini, diawali dengan <i>Hypothesis testing</i> seperti <i>Normality tests</i> dan <i>Significance tests.</i> Kemudian dilanjutkan dengan <i>preprocessing</i> pada dataset, seperti <i>feature selection</i> dan <i>feature scaling</i>. Dan juga, dari eksplorasi data sebelumnya sudah diperlihatkan bahwa dataset ini <i>highly-imbalanced</i>. Itu kenapa, saya juga akan menerapkan SMOTE dan <i>nearmiss algorithm</i> untuk melakukan <i>oversampling</i> dan <i>undersampling</i> ke dataset ini. Kemudian dilanjutkan dengan <i>modeling</i> menggunakan default model. \n",
    "    \n",
    "> <p style=\"font-family:'Courier New'\">Tujuan objektif dari Jupyter notebook ini adalah memberikan gambaran besar dalam dataset setelah di <i>resampling</i> atau sebelum di <i>resampling</i> menggunakan default model. "
   ]
  },
  {
   "cell_type": "code",
   "execution_count": 1,
   "metadata": {
    "ExecuteTime": {
     "end_time": "2020-06-18T12:19:35.289943Z",
     "start_time": "2020-06-18T12:18:58.260405Z"
    }
   },
   "outputs": [
    {
     "name": "stderr",
     "output_type": "stream",
     "text": [
      "/home/user/anaconda3/lib/python3.7/site-packages/sklearn/utils/deprecation.py:144: FutureWarning: The sklearn.metrics.classification module is  deprecated in version 0.22 and will be removed in version 0.24. The corresponding classes / functions should instead be imported from sklearn.metrics. Anything that cannot be imported from sklearn.metrics is now part of the private API.\n",
      "  warnings.warn(message, FutureWarning)\n"
     ]
    }
   ],
   "source": [
    "import pandas as pd\n",
    "import numpy as np\n",
    "import matplotlib.pyplot as plt\n",
    "import seaborn as sns\n",
    "\n",
    "from scipy.stats import mannwhitneyu, chi2_contingency\n",
    "from scipy.stats import shapiro\n",
    "import scipy.stats as ss\n",
    "\n",
    "from sklearn.metrics import confusion_matrix, classification_report, make_scorer, f1_score, precision_score, recall_score, matthews_corrcoef, roc_auc_score, accuracy_score\n",
    "\n",
    "from sklearn.model_selection import train_test_split, GridSearchCV\n",
    "from sklearn.preprocessing import RobustScaler\n",
    "from imblearn.over_sampling import SMOTE\n",
    "from imblearn.under_sampling import NearMiss\n",
    "\n",
    "from sklearn.compose import ColumnTransformer\n",
    "from imblearn.pipeline import Pipeline\n",
    "from sklearn.preprocessing import OneHotEncoder\n",
    "from mlxtend.plotting import plot_learning_curves\n",
    "\n",
    "from yellowbrick.model_selection import LearningCurve\n",
    "\n",
    "from sklearn.linear_model import LogisticRegression\n",
    "from sklearn.ensemble import RandomForestClassifier\n",
    "from xgboost import XGBClassifier\n",
    "\n",
    "import warnings\n",
    "warnings.filterwarnings(\"ignore\")"
   ]
  },
  {
   "cell_type": "code",
   "execution_count": 2,
   "metadata": {
    "ExecuteTime": {
     "end_time": "2020-06-18T12:19:35.514856Z",
     "start_time": "2020-06-18T12:19:35.295551Z"
    }
   },
   "outputs": [],
   "source": [
    "bank = pd.read_csv('bank_clean.csv')"
   ]
  },
  {
   "cell_type": "code",
   "execution_count": 3,
   "metadata": {
    "ExecuteTime": {
     "end_time": "2020-06-18T12:19:35.654793Z",
     "start_time": "2020-06-18T12:19:35.519432Z"
    },
    "scrolled": false
   },
   "outputs": [
    {
     "data": {
      "text/html": [
       "<div>\n",
       "<style scoped>\n",
       "    .dataframe tbody tr th:only-of-type {\n",
       "        vertical-align: middle;\n",
       "    }\n",
       "\n",
       "    .dataframe tbody tr th {\n",
       "        vertical-align: top;\n",
       "    }\n",
       "\n",
       "    .dataframe thead th {\n",
       "        text-align: right;\n",
       "    }\n",
       "</style>\n",
       "<table border=\"1\" class=\"dataframe\">\n",
       "  <thead>\n",
       "    <tr style=\"text-align: right;\">\n",
       "      <th></th>\n",
       "      <th>age</th>\n",
       "      <th>job</th>\n",
       "      <th>marital</th>\n",
       "      <th>education</th>\n",
       "      <th>default</th>\n",
       "      <th>month</th>\n",
       "      <th>campaign</th>\n",
       "      <th>pdays</th>\n",
       "      <th>poutcome</th>\n",
       "      <th>emp.var.rate</th>\n",
       "      <th>cons.price.idx</th>\n",
       "      <th>cons.conf.idx</th>\n",
       "      <th>euribor3m</th>\n",
       "      <th>nr.employed</th>\n",
       "      <th>y</th>\n",
       "    </tr>\n",
       "  </thead>\n",
       "  <tbody>\n",
       "    <tr>\n",
       "      <th>0</th>\n",
       "      <td>56</td>\n",
       "      <td>housemaid</td>\n",
       "      <td>married</td>\n",
       "      <td>basic.4y</td>\n",
       "      <td>no</td>\n",
       "      <td>may</td>\n",
       "      <td>1</td>\n",
       "      <td>Never contacted before</td>\n",
       "      <td>nonexistent</td>\n",
       "      <td>1.1</td>\n",
       "      <td>93.994</td>\n",
       "      <td>-36.4</td>\n",
       "      <td>4.857</td>\n",
       "      <td>5191.0</td>\n",
       "      <td>no</td>\n",
       "    </tr>\n",
       "    <tr>\n",
       "      <th>1</th>\n",
       "      <td>57</td>\n",
       "      <td>services</td>\n",
       "      <td>married</td>\n",
       "      <td>high.school</td>\n",
       "      <td>unknown</td>\n",
       "      <td>may</td>\n",
       "      <td>1</td>\n",
       "      <td>Never contacted before</td>\n",
       "      <td>nonexistent</td>\n",
       "      <td>1.1</td>\n",
       "      <td>93.994</td>\n",
       "      <td>-36.4</td>\n",
       "      <td>4.857</td>\n",
       "      <td>5191.0</td>\n",
       "      <td>no</td>\n",
       "    </tr>\n",
       "    <tr>\n",
       "      <th>2</th>\n",
       "      <td>37</td>\n",
       "      <td>services</td>\n",
       "      <td>married</td>\n",
       "      <td>high.school</td>\n",
       "      <td>no</td>\n",
       "      <td>may</td>\n",
       "      <td>1</td>\n",
       "      <td>Never contacted before</td>\n",
       "      <td>nonexistent</td>\n",
       "      <td>1.1</td>\n",
       "      <td>93.994</td>\n",
       "      <td>-36.4</td>\n",
       "      <td>4.857</td>\n",
       "      <td>5191.0</td>\n",
       "      <td>no</td>\n",
       "    </tr>\n",
       "    <tr>\n",
       "      <th>3</th>\n",
       "      <td>40</td>\n",
       "      <td>admin.</td>\n",
       "      <td>married</td>\n",
       "      <td>basic.6y</td>\n",
       "      <td>no</td>\n",
       "      <td>may</td>\n",
       "      <td>1</td>\n",
       "      <td>Never contacted before</td>\n",
       "      <td>nonexistent</td>\n",
       "      <td>1.1</td>\n",
       "      <td>93.994</td>\n",
       "      <td>-36.4</td>\n",
       "      <td>4.857</td>\n",
       "      <td>5191.0</td>\n",
       "      <td>no</td>\n",
       "    </tr>\n",
       "    <tr>\n",
       "      <th>4</th>\n",
       "      <td>56</td>\n",
       "      <td>services</td>\n",
       "      <td>married</td>\n",
       "      <td>high.school</td>\n",
       "      <td>no</td>\n",
       "      <td>may</td>\n",
       "      <td>1</td>\n",
       "      <td>Never contacted before</td>\n",
       "      <td>nonexistent</td>\n",
       "      <td>1.1</td>\n",
       "      <td>93.994</td>\n",
       "      <td>-36.4</td>\n",
       "      <td>4.857</td>\n",
       "      <td>5191.0</td>\n",
       "      <td>no</td>\n",
       "    </tr>\n",
       "  </tbody>\n",
       "</table>\n",
       "</div>"
      ],
      "text/plain": [
       "   age        job  marital    education  default month  campaign  \\\n",
       "0   56  housemaid  married     basic.4y       no   may         1   \n",
       "1   57   services  married  high.school  unknown   may         1   \n",
       "2   37   services  married  high.school       no   may         1   \n",
       "3   40     admin.  married     basic.6y       no   may         1   \n",
       "4   56   services  married  high.school       no   may         1   \n",
       "\n",
       "                    pdays     poutcome  emp.var.rate  cons.price.idx  \\\n",
       "0  Never contacted before  nonexistent           1.1          93.994   \n",
       "1  Never contacted before  nonexistent           1.1          93.994   \n",
       "2  Never contacted before  nonexistent           1.1          93.994   \n",
       "3  Never contacted before  nonexistent           1.1          93.994   \n",
       "4  Never contacted before  nonexistent           1.1          93.994   \n",
       "\n",
       "   cons.conf.idx  euribor3m  nr.employed   y  \n",
       "0          -36.4      4.857       5191.0  no  \n",
       "1          -36.4      4.857       5191.0  no  \n",
       "2          -36.4      4.857       5191.0  no  \n",
       "3          -36.4      4.857       5191.0  no  \n",
       "4          -36.4      4.857       5191.0  no  "
      ]
     },
     "execution_count": 3,
     "metadata": {},
     "output_type": "execute_result"
    }
   ],
   "source": [
    "bank.head()"
   ]
  },
  {
   "cell_type": "code",
   "execution_count": 12,
   "metadata": {
    "ExecuteTime": {
     "end_time": "2020-06-18T12:21:35.113763Z",
     "start_time": "2020-06-18T12:21:35.101367Z"
    }
   },
   "outputs": [
    {
     "data": {
      "text/plain": [
       "array(['basic.4y', 'high.school', 'basic.6y', 'basic.9y',\n",
       "       'professional.course', 'university.degree', 'illiterate'],\n",
       "      dtype=object)"
      ]
     },
     "execution_count": 12,
     "metadata": {},
     "output_type": "execute_result"
    }
   ],
   "source": [
    "bank['education'].unique()"
   ]
  },
  {
   "cell_type": "code",
   "execution_count": 4,
   "metadata": {
    "ExecuteTime": {
     "end_time": "2020-06-14T14:45:37.731708Z",
     "start_time": "2020-06-14T14:45:36.903779Z"
    },
    "scrolled": false
   },
   "outputs": [
    {
     "data": {
      "text/plain": [
       "<matplotlib.axes._subplots.AxesSubplot at 0x7fc54902f9d0>"
      ]
     },
     "execution_count": 4,
     "metadata": {},
     "output_type": "execute_result"
    },
    {
     "data": {
      "image/png": "[encoded data removed]",
      "text/plain": [
       "<Figure size 576x396 with 1 Axes>"
      ]
     },
     "metadata": {},
     "output_type": "display_data"
    }
   ],
   "source": [
    "bank['y'].value_counts().plot(kind = 'pie',autopct='%1.1f%%')"
   ]
  },
  {
   "cell_type": "markdown",
   "metadata": {},
   "source": [
    "> Terlihat bahwa dataset ini highly-unbalanced"
   ]
  },
  {
   "cell_type": "markdown",
   "metadata": {},
   "source": [
    "# Hypothesis Testing"
   ]
  },
  {
   "cell_type": "markdown",
   "metadata": {},
   "source": [
    "> <p style=\"font-family:'Courier New'\">Melakukan tes hipotesis ke dataset berguna untuk memastikan bahwa semua fitur-fitur yang digunakan mempunyai pengaruh atau ada perbedaan yang signifikan secara statisik pada target. "
   ]
  },
  {
   "cell_type": "code",
   "execution_count": 5,
   "metadata": {
    "ExecuteTime": {
     "end_time": "2020-06-14T14:45:48.645755Z",
     "start_time": "2020-06-14T14:45:48.587524Z"
    }
   },
   "outputs": [],
   "source": [
    "categorical = list(bank.select_dtypes('object').columns.drop('y'))\n",
    "numerical = list(bank.drop(list(bank.select_dtypes('object').columns), axis = 1).columns)"
   ]
  },
  {
   "cell_type": "markdown",
   "metadata": {},
   "source": [
    "## Normality Test"
   ]
  },
  {
   "cell_type": "code",
   "execution_count": 6,
   "metadata": {
    "ExecuteTime": {
     "end_time": "2020-06-14T14:45:48.747609Z",
     "start_time": "2020-06-14T14:45:48.649805Z"
    }
   },
   "outputs": [
    {
     "data": {
      "text/html": [
       "<div>\n",
       "<style scoped>\n",
       "    .dataframe tbody tr th:only-of-type {\n",
       "        vertical-align: middle;\n",
       "    }\n",
       "\n",
       "    .dataframe tbody tr th {\n",
       "        vertical-align: top;\n",
       "    }\n",
       "\n",
       "    .dataframe thead th {\n",
       "        text-align: right;\n",
       "    }\n",
       "</style>\n",
       "<table border=\"1\" class=\"dataframe\">\n",
       "  <thead>\n",
       "    <tr style=\"text-align: right;\">\n",
       "      <th></th>\n",
       "      <th>Hypothesis</th>\n",
       "    </tr>\n",
       "  </thead>\n",
       "  <tbody>\n",
       "    <tr>\n",
       "      <th>age</th>\n",
       "      <td>Reject Null Hypothesis</td>\n",
       "    </tr>\n",
       "    <tr>\n",
       "      <th>campaign</th>\n",
       "      <td>Reject Null Hypothesis</td>\n",
       "    </tr>\n",
       "    <tr>\n",
       "      <th>emp.var.rate</th>\n",
       "      <td>Reject Null Hypothesis</td>\n",
       "    </tr>\n",
       "    <tr>\n",
       "      <th>cons.price.idx</th>\n",
       "      <td>Reject Null Hypothesis</td>\n",
       "    </tr>\n",
       "    <tr>\n",
       "      <th>cons.conf.idx</th>\n",
       "      <td>Reject Null Hypothesis</td>\n",
       "    </tr>\n",
       "    <tr>\n",
       "      <th>euribor3m</th>\n",
       "      <td>Reject Null Hypothesis</td>\n",
       "    </tr>\n",
       "    <tr>\n",
       "      <th>nr.employed</th>\n",
       "      <td>Reject Null Hypothesis</td>\n",
       "    </tr>\n",
       "  </tbody>\n",
       "</table>\n",
       "</div>"
      ],
      "text/plain": [
       "                            Hypothesis\n",
       "age             Reject Null Hypothesis\n",
       "campaign        Reject Null Hypothesis\n",
       "emp.var.rate    Reject Null Hypothesis\n",
       "cons.price.idx  Reject Null Hypothesis\n",
       "cons.conf.idx   Reject Null Hypothesis\n",
       "euribor3m       Reject Null Hypothesis\n",
       "nr.employed     Reject Null Hypothesis"
      ]
     },
     "execution_count": 6,
     "metadata": {},
     "output_type": "execute_result"
    }
   ],
   "source": [
    "shap = []\n",
    "\n",
    "for i in numerical:\n",
    "    if shapiro(bank[i])[1] < 0.05:\n",
    "        shap.append('Reject Null Hypothesis')\n",
    "    else:\n",
    "        shap.append('Fail To reject Null Hypothesis')\n",
    "        \n",
    "pd.DataFrame({'Hypothesis' : shap}, index = numerical)"
   ]
  },
  {
   "cell_type": "markdown",
   "metadata": {},
   "source": [
    "## Significance Test"
   ]
  },
  {
   "cell_type": "code",
   "execution_count": 7,
   "metadata": {
    "ExecuteTime": {
     "end_time": "2020-06-14T14:45:49.150968Z",
     "start_time": "2020-06-14T14:45:48.753592Z"
    }
   },
   "outputs": [
    {
     "data": {
      "text/html": [
       "<div>\n",
       "<style scoped>\n",
       "    .dataframe tbody tr th:only-of-type {\n",
       "        vertical-align: middle;\n",
       "    }\n",
       "\n",
       "    .dataframe tbody tr th {\n",
       "        vertical-align: top;\n",
       "    }\n",
       "\n",
       "    .dataframe thead th {\n",
       "        text-align: right;\n",
       "    }\n",
       "</style>\n",
       "<table border=\"1\" class=\"dataframe\">\n",
       "  <thead>\n",
       "    <tr style=\"text-align: right;\">\n",
       "      <th></th>\n",
       "      <th>Hypothesis</th>\n",
       "    </tr>\n",
       "  </thead>\n",
       "  <tbody>\n",
       "    <tr>\n",
       "      <th>age</th>\n",
       "      <td>Reject Null Hypothesis</td>\n",
       "    </tr>\n",
       "    <tr>\n",
       "      <th>campaign</th>\n",
       "      <td>Reject Null Hypothesis</td>\n",
       "    </tr>\n",
       "    <tr>\n",
       "      <th>emp.var.rate</th>\n",
       "      <td>Reject Null Hypothesis</td>\n",
       "    </tr>\n",
       "    <tr>\n",
       "      <th>cons.price.idx</th>\n",
       "      <td>Reject Null Hypothesis</td>\n",
       "    </tr>\n",
       "    <tr>\n",
       "      <th>cons.conf.idx</th>\n",
       "      <td>Reject Null Hypothesis</td>\n",
       "    </tr>\n",
       "    <tr>\n",
       "      <th>euribor3m</th>\n",
       "      <td>Reject Null Hypothesis</td>\n",
       "    </tr>\n",
       "    <tr>\n",
       "      <th>nr.employed</th>\n",
       "      <td>Reject Null Hypothesis</td>\n",
       "    </tr>\n",
       "  </tbody>\n",
       "</table>\n",
       "</div>"
      ],
      "text/plain": [
       "                            Hypothesis\n",
       "age             Reject Null Hypothesis\n",
       "campaign        Reject Null Hypothesis\n",
       "emp.var.rate    Reject Null Hypothesis\n",
       "cons.price.idx  Reject Null Hypothesis\n",
       "cons.conf.idx   Reject Null Hypothesis\n",
       "euribor3m       Reject Null Hypothesis\n",
       "nr.employed     Reject Null Hypothesis"
      ]
     },
     "execution_count": 7,
     "metadata": {},
     "output_type": "execute_result"
    }
   ],
   "source": [
    "mannwhit = []\n",
    "\n",
    "for i in numerical:\n",
    "    if mannwhitneyu(bank[bank['y'] == 'no'][i],bank[bank['y'] == 'yes'][i])[1] < 0.05:\n",
    "        mannwhit.append('Reject Null Hypothesis')\n",
    "    else:\n",
    "        mannwhit.append('Fail To reject Null Hypothesis')\n",
    "\n",
    "pd.DataFrame({'Hypothesis' : mannwhit}, index = numerical)"
   ]
  },
  {
   "cell_type": "code",
   "execution_count": 8,
   "metadata": {
    "ExecuteTime": {
     "end_time": "2020-06-14T14:45:49.665193Z",
     "start_time": "2020-06-14T14:45:49.155281Z"
    },
    "scrolled": true
   },
   "outputs": [
    {
     "data": {
      "text/html": [
       "<div>\n",
       "<style scoped>\n",
       "    .dataframe tbody tr th:only-of-type {\n",
       "        vertical-align: middle;\n",
       "    }\n",
       "\n",
       "    .dataframe tbody tr th {\n",
       "        vertical-align: top;\n",
       "    }\n",
       "\n",
       "    .dataframe thead th {\n",
       "        text-align: right;\n",
       "    }\n",
       "</style>\n",
       "<table border=\"1\" class=\"dataframe\">\n",
       "  <thead>\n",
       "    <tr style=\"text-align: right;\">\n",
       "      <th></th>\n",
       "      <th>Hypothesis</th>\n",
       "    </tr>\n",
       "  </thead>\n",
       "  <tbody>\n",
       "    <tr>\n",
       "      <th>job</th>\n",
       "      <td>Reject Null Hypothesis</td>\n",
       "    </tr>\n",
       "    <tr>\n",
       "      <th>marital</th>\n",
       "      <td>Reject Null Hypothesis</td>\n",
       "    </tr>\n",
       "    <tr>\n",
       "      <th>education</th>\n",
       "      <td>Reject Null Hypothesis</td>\n",
       "    </tr>\n",
       "    <tr>\n",
       "      <th>default</th>\n",
       "      <td>Reject Null Hypothesis</td>\n",
       "    </tr>\n",
       "    <tr>\n",
       "      <th>month</th>\n",
       "      <td>Reject Null Hypothesis</td>\n",
       "    </tr>\n",
       "    <tr>\n",
       "      <th>pdays</th>\n",
       "      <td>Reject Null Hypothesis</td>\n",
       "    </tr>\n",
       "    <tr>\n",
       "      <th>poutcome</th>\n",
       "      <td>Reject Null Hypothesis</td>\n",
       "    </tr>\n",
       "  </tbody>\n",
       "</table>\n",
       "</div>"
      ],
      "text/plain": [
       "                       Hypothesis\n",
       "job        Reject Null Hypothesis\n",
       "marital    Reject Null Hypothesis\n",
       "education  Reject Null Hypothesis\n",
       "default    Reject Null Hypothesis\n",
       "month      Reject Null Hypothesis\n",
       "pdays      Reject Null Hypothesis\n",
       "poutcome   Reject Null Hypothesis"
      ]
     },
     "execution_count": 8,
     "metadata": {},
     "output_type": "execute_result"
    }
   ],
   "source": [
    "chi2 = []\n",
    "\n",
    "for i in categorical:\n",
    "    if chi2_contingency(pd.crosstab(bank['y'], bank[i]))[1] < 0.05:\n",
    "        chi2.append('Reject Null Hypothesis')\n",
    "    else:\n",
    "        chi2.append('Fail To Reject Null Hypothesis')\n",
    "        \n",
    "pd.DataFrame({'Hypothesis' : chi2}, index = categorical)"
   ]
  },
  {
   "cell_type": "markdown",
   "metadata": {},
   "source": [
    "> <p style=\"font-family:'Courier New'\">Terlihat dari signifikansi tes di atas, bahwa fitur-fitur yang di dataset setelah dibersihkan adalah fitur-fitur yang signifikan. "
   ]
  },
  {
   "cell_type": "markdown",
   "metadata": {},
   "source": [
    "# Preprocessing"
   ]
  },
  {
   "cell_type": "markdown",
   "metadata": {},
   "source": [
    "## Feature Selection\n",
    "\n",
    "\n",
    "<p style=\"font-family:'Courier New'\">Pada feature selection saya menggunakan analisa korelasi, yang dimana jika korelasi fitur terhadap target tidak ada (dalam asumsi saya, korelasi < 0.2 artinya fitur tersebut tidak punya korelasi). Maka akan saya buang fiturnya. "
   ]
  },
  {
   "cell_type": "code",
   "execution_count": 9,
   "metadata": {
    "ExecuteTime": {
     "end_time": "2020-06-14T14:45:49.707138Z",
     "start_time": "2020-06-14T14:45:49.669183Z"
    }
   },
   "outputs": [],
   "source": [
    "#Correlation measurement untuk data discrete dan continous\n",
    "def correlation_ratio(categories, measurement):\n",
    "    fcat,_ = pd.factorize(categories)\n",
    "    cat_num = np.max(fcat)+1\n",
    "    y_avg_array = np.zeros(cat_num)\n",
    "    n_array = np.zeros(cat_num)\n",
    "    for i in range(0, cat_num):\n",
    "        cat_measures = measurement[np.argwhere(fcat == i).flatten()]\n",
    "        n_array[i] = len(cat_measures)\n",
    "        y_avg_array[i] = np.average(cat_measures)\n",
    "    y_total_avg = np.sum(np.multiply(y_avg_array,n_array))/np.sum(n_array)\n",
    "    numerator = np.sum(np.multiply(n_array,np.power(np.subtract(y_avg_array, y_total_avg),2)))\n",
    "    denominator = np.sum(np.power(np.subtract(measurement,y_total_avg),2))\n",
    "    if numerator == 0:\n",
    "        eta = 0.0\n",
    "    else:\n",
    "        eta = np.sqrt(numerator/denominator)\n",
    "    return eta\n",
    "\n",
    "#Correlation measurement untuk data discrete dan discrete\n",
    "def cramers_v(x, y):\n",
    "    confusion_matrix = pd.crosstab(x,y)\n",
    "    chi2 = ss.chi2_contingency(confusion_matrix)[0]\n",
    "    n = confusion_matrix.sum().sum()\n",
    "    phi2 = chi2/n\n",
    "    r,k = confusion_matrix.shape\n",
    "    phi2corr = max(0, phi2-((k-1)*(r-1))/(n-1))\n",
    "    rcorr = r - ((r-1)**2)/(n-1)\n",
    "    kcorr = k - ((k-1)**2)/(n-1)\n",
    "    return np.sqrt(phi2corr/min((kcorr-1),(rcorr-1)))"
   ]
  },
  {
   "cell_type": "code",
   "execution_count": 10,
   "metadata": {
    "ExecuteTime": {
     "end_time": "2020-06-14T14:45:53.879814Z",
     "start_time": "2020-06-14T14:45:49.712054Z"
    }
   },
   "outputs": [
    {
     "data": {
      "text/plain": [
       "<matplotlib.axes._subplots.AxesSubplot at 0x7fc549000990>"
      ]
     },
     "execution_count": 10,
     "metadata": {},
     "output_type": "execute_result"
    },
    {
     "data": {
      "image/png": "[encoded data removed]",
      "text/plain": [
       "<Figure size 720x360 with 2 Axes>"
      ]
     },
     "metadata": {},
     "output_type": "display_data"
    }
   ],
   "source": [
    "category = bank.select_dtypes(exclude = np.number)\n",
    "\n",
    "corrCat = []\n",
    "for i in category.columns:\n",
    "    mat = []\n",
    "    for j in category.columns:\n",
    "        mat.append(cramers_v(bank[i],bank[j]))\n",
    "    corrCat.append(mat)\n",
    "    \n",
    "dfcramers = pd.DataFrame(corrCat, index = category.columns, columns = category.columns)\n",
    "plt.figure(figsize = (10,5))\n",
    "sns.heatmap(dfcramers,annot = True)"
   ]
  },
  {
   "cell_type": "code",
   "execution_count": 11,
   "metadata": {
    "ExecuteTime": {
     "end_time": "2020-06-14T14:45:56.126054Z",
     "start_time": "2020-06-14T14:45:53.884863Z"
    },
    "scrolled": true
   },
   "outputs": [
    {
     "data": {
      "text/plain": [
       "<matplotlib.axes._subplots.AxesSubplot at 0x7fc54880fc10>"
      ]
     },
     "execution_count": 11,
     "metadata": {},
     "output_type": "execute_result"
    },
    {
     "data": {
      "image/png": "[encoded data removed]",
      "text/plain": [
       "<Figure size 720x360 with 2 Axes>"
      ]
     },
     "metadata": {},
     "output_type": "display_data"
    }
   ],
   "source": [
    "numeric = bank.drop(category.columns, axis = 1)\n",
    "\n",
    "corrNumCat = []\n",
    "\n",
    "for i in category.columns:\n",
    "    mat2 = []\n",
    "    for j in numeric.columns:\n",
    "        mat2.append(correlation_ratio(bank[i],bank[j]))\n",
    "    corrNumCat.append(mat2)\n",
    "\n",
    "dfcramers = pd.DataFrame(corrNumCat, index = category.columns, columns = numeric.columns)\n",
    "plt.figure(figsize = (10,5))\n",
    "sns.heatmap(dfcramers,annot = True)"
   ]
  },
  {
   "cell_type": "markdown",
   "metadata": {},
   "source": [
    "> <p style=\"font-family:'Courier New'\">Pada analisa korelasi di atas dapat dilihat bahwa fitur <i>job, marital, education, default, age, campaign, cons.price.idx</i> dan <i>cons.conf.idx</i> tidak memiliki korelasi pada target. Namun karena saya bukan ahli di bidang ekonomi, saya memutuskan untuk tidak membuang socio-economics atribute. Kemudian juga, mengingat bahwa fitur yang tersisa tidak ada fitur pada profil nasabah, dan saya ingin model saya juga mempertimbangkan profil nasabah, saya memasukkan fitur age ke dalam model."
   ]
  },
  {
   "cell_type": "markdown",
   "metadata": {},
   "source": [
    "## Dataset Splitting"
   ]
  },
  {
   "cell_type": "code",
   "execution_count": 12,
   "metadata": {
    "ExecuteTime": {
     "end_time": "2020-06-14T14:45:56.160393Z",
     "start_time": "2020-06-14T14:45:56.132340Z"
    }
   },
   "outputs": [],
   "source": [
    "X = bank.drop('y', axis = 1)\n",
    "y = bank['y'].map({'no' : 0, 'yes' : 1})"
   ]
  },
  {
   "cell_type": "code",
   "execution_count": 13,
   "metadata": {
    "ExecuteTime": {
     "end_time": "2020-06-14T14:45:56.341083Z",
     "start_time": "2020-06-14T14:45:56.166093Z"
    }
   },
   "outputs": [],
   "source": [
    "X_train, X_test, y_train, y_test = train_test_split(X,y, test_size = 0.2, random_state = 101)"
   ]
  },
  {
   "cell_type": "markdown",
   "metadata": {},
   "source": [
    "## Build a pipeline"
   ]
  },
  {
   "cell_type": "markdown",
   "metadata": {},
   "source": [
    "<p style=\"font-family:'Courier New'\">Untuk mengurangi kemungkinan terjadinya <i>data leakage</i>, saya menggunakan bantuan <i>pipeline</i>. <i>Pipeline</i> yang saya gunakan berasal dari <i>package</i> imblearn mengingat akan dilakukannya <i>Synthetic Minority Over-sampling TEchnique (SMOTE)</i> dan <i>Near-miss algorithm</i>.\n",
    "\n",
    "<p style=\"font-family:'Courier New'\">Mengingat masih ada data-data outlier di dataset ini, saya menggunakan RobustScaler sebagai Feature Scaling ke data numerik. Kemudian dilanjutkan dengan melakukan <i>encoding</i> menggunakan OneHotEncoder ke data kategorik."
   ]
  },
  {
   "cell_type": "code",
   "execution_count": 78,
   "metadata": {
    "ExecuteTime": {
     "end_time": "2020-06-14T15:13:51.228092Z",
     "start_time": "2020-06-14T15:13:51.216171Z"
    }
   },
   "outputs": [],
   "source": [
    "numeric_transformer = Pipeline(steps=[\n",
    "    ('scaler', RobustScaler())])\n",
    "\n",
    "categorical_transformer = Pipeline(steps=[\n",
    "    ('onehot', OneHotEncoder(handle_unknown='ignore'))])\n",
    "\n",
    "preprocessor = ColumnTransformer(\n",
    "    transformers=[\n",
    "        ('num', numeric_transformer, ['emp.var.rate','euribor3m','nr.employed','cons.price.idx','cons.conf.idx','age']),\n",
    "        ('cat', categorical_transformer, ['month','pdays'])])"
   ]
  },
  {
   "cell_type": "markdown",
   "metadata": {},
   "source": [
    "# Evaluation Metrics\n",
    "\n",
    "<p style=\"font-family:'Courier New'\">Dari analisa sebelumnya, telah disinggung bahwa dataset ini termasuk dataset yang highly-unbalanced. Itu kenapa pemilihan evaluasi metrik harus lebih berhati-hati. Pada kasus dataset yang highly-unbalanced, evaluasi metrik akurasi jadi tidak lagi relevan. Namun masalah lainnya, bagaimana menentukan metrik yang dapat 'fair' membandingkan model yang di fit dengan dataset sebelum resampling dan setelah resampling. \n",
    "\n",
    "<p style=\"font-family:'Courier New'\">Pilihan metrik yang saya gunakan adalah $F1-Score$ (macro), $precision$ (macro), $recall$ (macro), dan Matthews Correlation Coefficient ($MCC$). Macro di sini adalah macro-average. Dimana saya pikir, macro-average akan sangat membantu saya dalam membandingkan model yang di fit dengan dataset sebelum resampling dan setelah resampling. Mengingat macro-average melihat dua kelas secara sama rata. Secara matematis:"
   ]
  },
  {
   "cell_type": "markdown",
   "metadata": {},
   "source": [
    "<b><p style=\"font-family:'Courier New'\">1. F1 score</b> adalah <i>harmonic mean</i> dari precision dan recall yang dapat ditulis sebagai berikut:\n",
    "$$F1 = 2\\frac{precision\\cdot recall}{precision+recall}$$\n",
    "dimana:\n",
    "$$ precision(posLabel = 1) = precision(+) = \\frac{TP}{TP+FP} = \\frac{TruePositive}{ActualResult_{+}} $$\n",
    "$$ recall(posLabel=1) = recall (+) = \\frac{TP}{TP+FN} = \\frac{TruePositive}{PredictedResult_{+}}$$\n"
   ]
  },
  {
   "cell_type": "markdown",
   "metadata": {},
   "source": [
    "<b><p style=\"font-family:'Courier New'\">2. Matthews Correlation Coefficient ($MCC$)</b> secara matematis dapat dituliskan sebagai berikut:\n",
    "\n",
    "$$ MCC = \\frac{TN\\times TP-FP\\times FN}{\\sqrt{(TN+FN)(FP+TP)(TN+FP)(FN+TP)}} $$\n",
    "\n",
    "$MCC$ menjadi salah satu evaluasi metrik yang sering diperlihatkan pada kasus imbalance class, karena dia bersifat <b><i>perfectly symmetric</i></b>. Yang artinya setiap kelas dinilai sama pentingnya. "
   ]
  },
  {
   "cell_type": "markdown",
   "metadata": {},
   "source": [
    "<b><p style=\"font-family:'Courier New'\">3. Macro Average </b> menghitung rata-rata suatu nilai tiap kelas. Misalnya untuk f-score untuk masalah klasifikasi biner:\n",
    "\n",
    "$$ macroF1 = \\frac{F1_{1}+F1_{2}}{2} $$\n",
    "\n",
    "> <p style=\"font-family:'Courier New'\">Catatan: Dalam kasus pemilihan modelling terbaik, saya hanya melihat macro f1-score tertinggi. \n"
   ]
  },
  {
   "cell_type": "code",
   "execution_count": 15,
   "metadata": {
    "ExecuteTime": {
     "end_time": "2020-06-14T14:45:56.498565Z",
     "start_time": "2020-06-14T14:45:56.425939Z"
    }
   },
   "outputs": [],
   "source": [
    "def evaluationMetrics(y_test, y_pred):\n",
    "    f1.append(f1_score(y_test,y_pred, average = 'macro'))\n",
    "    prec.append(precision_score(y_test, y_pred, average = 'macro'))\n",
    "    recall.append(recall_score(y_test, y_pred, average = 'macro'))\n",
    "    matthews.append(matthews_corrcoef(y_test, y_pred))"
   ]
  },
  {
   "cell_type": "markdown",
   "metadata": {},
   "source": [
    "# Modeling\n",
    "\n",
    "<p style=\"font-family:'Courier New'\">Model yang saya gunakan adalah: Logistic Regression, Random Forest Classifier, dan XGBoost Classifier. "
   ]
  },
  {
   "cell_type": "markdown",
   "metadata": {},
   "source": [
    "## ModelDefault-Without resampling"
   ]
  },
  {
   "cell_type": "code",
   "execution_count": 16,
   "metadata": {
    "ExecuteTime": {
     "end_time": "2020-06-14T14:45:56.588681Z",
     "start_time": "2020-06-14T14:45:56.502639Z"
    }
   },
   "outputs": [],
   "source": [
    "metricDefault_Original = pd.DataFrame(index = ['Logistic Regression',\n",
    "                                             'Random Forest Classifier',\n",
    "                                             'XGBoost Classifier']) \n",
    "f1 = []\n",
    "prec = []\n",
    "recall = []\n",
    "matthews = []"
   ]
  },
  {
   "cell_type": "markdown",
   "metadata": {},
   "source": [
    "### Make pipeline for all models"
   ]
  },
  {
   "cell_type": "markdown",
   "metadata": {},
   "source": [
    "> <p style=\"font-family:'Courier New'\">Sebetulnya, model random forest dan xgboost tidak membutuhkan scaling. Namun agar memastikan model berada di satu halaman yang sama, maka saya rasa tidak masalah jika scaling juga dilakukan ke random forest dan xgboost juga. "
   ]
  },
  {
   "cell_type": "code",
   "execution_count": 17,
   "metadata": {
    "ExecuteTime": {
     "end_time": "2020-06-14T14:45:56.665589Z",
     "start_time": "2020-06-14T14:45:56.592806Z"
    }
   },
   "outputs": [],
   "source": [
    "logreg = Pipeline(steps=[('preprocessor', preprocessor),\n",
    "                      ('logreg', LogisticRegression(random_state = 101))])\n",
    "\n",
    "rfc = Pipeline(steps=[('preprocessor', preprocessor),\n",
    "                      ('rfc', RandomForestClassifier(random_state = 101))])\n",
    "\n",
    "xgb = Pipeline(steps=[('preprocessor', preprocessor),\n",
    "                      ('xgb', XGBClassifier(random_state = 101))])"
   ]
  },
  {
   "cell_type": "markdown",
   "metadata": {},
   "source": [
    "### Logistic Regression"
   ]
  },
  {
   "cell_type": "code",
   "execution_count": 18,
   "metadata": {
    "ExecuteTime": {
     "end_time": "2020-06-14T14:45:58.139329Z",
     "start_time": "2020-06-14T14:45:56.669711Z"
    }
   },
   "outputs": [
    {
     "data": {
      "text/plain": [
       "Pipeline(memory=None,\n",
       "         steps=[('preprocessor',\n",
       "                 ColumnTransformer(n_jobs=None, remainder='drop',\n",
       "                                   sparse_threshold=0.3,\n",
       "                                   transformer_weights=None,\n",
       "                                   transformers=[('num',\n",
       "                                                  Pipeline(memory=None,\n",
       "                                                           steps=[('scaler',\n",
       "                                                                   RobustScaler(copy=True,\n",
       "                                                                                quantile_range=(25.0,\n",
       "                                                                                                75.0),\n",
       "                                                                                with_centering=True,\n",
       "                                                                                with_scaling=True))],\n",
       "                                                           verbose=False),\n",
       "                                                  ['emp.var.rate', 'euribor3m',\n",
       "                                                   'nr.employed',\n",
       "                                                   'cons....\n",
       "                                                                                 handle_unknown='ignore',\n",
       "                                                                                 sparse=True))],\n",
       "                                                           verbose=False),\n",
       "                                                  ['month', 'pdays'])],\n",
       "                                   verbose=False)),\n",
       "                ('logreg',\n",
       "                 LogisticRegression(C=1.0, class_weight=None, dual=False,\n",
       "                                    fit_intercept=True, intercept_scaling=1,\n",
       "                                    l1_ratio=None, max_iter=100,\n",
       "                                    multi_class='auto', n_jobs=None,\n",
       "                                    penalty='l2', random_state=101,\n",
       "                                    solver='lbfgs', tol=0.0001, verbose=0,\n",
       "                                    warm_start=False))],\n",
       "         verbose=False)"
      ]
     },
     "execution_count": 18,
     "metadata": {},
     "output_type": "execute_result"
    }
   ],
   "source": [
    "logreg.fit(X_train, y_train)"
   ]
  },
  {
   "cell_type": "code",
   "execution_count": 19,
   "metadata": {
    "ExecuteTime": {
     "end_time": "2020-06-14T14:45:58.253717Z",
     "start_time": "2020-06-14T14:45:58.143359Z"
    }
   },
   "outputs": [],
   "source": [
    "y_pred_log = logreg.predict(X_test)\n",
    "\n",
    "evaluationMetrics(y_test, y_pred_log)"
   ]
  },
  {
   "cell_type": "code",
   "execution_count": 20,
   "metadata": {
    "ExecuteTime": {
     "end_time": "2020-06-14T14:45:58.292456Z",
     "start_time": "2020-06-14T14:45:58.258680Z"
    }
   },
   "outputs": [
    {
     "data": {
      "text/plain": [
       "array([[7173,  106],\n",
       "       [ 739,  220]])"
      ]
     },
     "execution_count": 20,
     "metadata": {},
     "output_type": "execute_result"
    }
   ],
   "source": [
    "confusion_matrix(y_test, y_pred_log)"
   ]
  },
  {
   "cell_type": "code",
   "execution_count": 21,
   "metadata": {
    "ExecuteTime": {
     "end_time": "2020-06-14T14:45:58.391763Z",
     "start_time": "2020-06-14T14:45:58.297730Z"
    }
   },
   "outputs": [
    {
     "name": "stdout",
     "output_type": "stream",
     "text": [
      "              precision    recall  f1-score   support\n",
      "\n",
      "           0       0.91      0.99      0.94      7279\n",
      "           1       0.67      0.23      0.34       959\n",
      "\n",
      "    accuracy                           0.90      8238\n",
      "   macro avg       0.79      0.61      0.64      8238\n",
      "weighted avg       0.88      0.90      0.87      8238\n",
      "\n"
     ]
    }
   ],
   "source": [
    "print(classification_report(y_test, y_pred_log))"
   ]
  },
  {
   "cell_type": "markdown",
   "metadata": {},
   "source": [
    "### Random Forest Classifier"
   ]
  },
  {
   "cell_type": "code",
   "execution_count": 22,
   "metadata": {
    "ExecuteTime": {
     "end_time": "2020-06-14T14:46:04.842995Z",
     "start_time": "2020-06-14T14:45:58.396260Z"
    }
   },
   "outputs": [
    {
     "data": {
      "text/plain": [
       "Pipeline(memory=None,\n",
       "         steps=[('preprocessor',\n",
       "                 ColumnTransformer(n_jobs=None, remainder='drop',\n",
       "                                   sparse_threshold=0.3,\n",
       "                                   transformer_weights=None,\n",
       "                                   transformers=[('num',\n",
       "                                                  Pipeline(memory=None,\n",
       "                                                           steps=[('scaler',\n",
       "                                                                   RobustScaler(copy=True,\n",
       "                                                                                quantile_range=(25.0,\n",
       "                                                                                                75.0),\n",
       "                                                                                with_centering=True,\n",
       "                                                                                with_scaling=True))],\n",
       "                                                           verbose=False),\n",
       "                                                  ['emp.var.rate', 'euribor3m',\n",
       "                                                   'nr.employed',\n",
       "                                                   'cons....\n",
       "                 RandomForestClassifier(bootstrap=True, ccp_alpha=0.0,\n",
       "                                        class_weight=None, criterion='gini',\n",
       "                                        max_depth=None, max_features='auto',\n",
       "                                        max_leaf_nodes=None, max_samples=None,\n",
       "                                        min_impurity_decrease=0.0,\n",
       "                                        min_impurity_split=None,\n",
       "                                        min_samples_leaf=1, min_samples_split=2,\n",
       "                                        min_weight_fraction_leaf=0.0,\n",
       "                                        n_estimators=100, n_jobs=None,\n",
       "                                        oob_score=False, random_state=101,\n",
       "                                        verbose=0, warm_start=False))],\n",
       "         verbose=False)"
      ]
     },
     "execution_count": 22,
     "metadata": {},
     "output_type": "execute_result"
    }
   ],
   "source": [
    "rfc.fit(X_train, y_train)"
   ]
  },
  {
   "cell_type": "code",
   "execution_count": 23,
   "metadata": {
    "ExecuteTime": {
     "end_time": "2020-06-14T14:46:05.252895Z",
     "start_time": "2020-06-14T14:46:04.846797Z"
    }
   },
   "outputs": [],
   "source": [
    "y_pred_rfc = rfc.predict(X_test)\n",
    "\n",
    "evaluationMetrics(y_test, y_pred_rfc)"
   ]
  },
  {
   "cell_type": "code",
   "execution_count": 24,
   "metadata": {
    "ExecuteTime": {
     "end_time": "2020-06-14T14:46:05.291178Z",
     "start_time": "2020-06-14T14:46:05.256847Z"
    }
   },
   "outputs": [
    {
     "data": {
      "text/plain": [
       "array([[7002,  277],\n",
       "       [ 681,  278]])"
      ]
     },
     "execution_count": 24,
     "metadata": {},
     "output_type": "execute_result"
    }
   ],
   "source": [
    "confusion_matrix(y_test, y_pred_rfc)"
   ]
  },
  {
   "cell_type": "code",
   "execution_count": 25,
   "metadata": {
    "ExecuteTime": {
     "end_time": "2020-06-14T14:46:05.404501Z",
     "start_time": "2020-06-14T14:46:05.295069Z"
    }
   },
   "outputs": [
    {
     "name": "stdout",
     "output_type": "stream",
     "text": [
      "              precision    recall  f1-score   support\n",
      "\n",
      "           0       0.91      0.96      0.94      7279\n",
      "           1       0.50      0.29      0.37       959\n",
      "\n",
      "    accuracy                           0.88      8238\n",
      "   macro avg       0.71      0.63      0.65      8238\n",
      "weighted avg       0.86      0.88      0.87      8238\n",
      "\n"
     ]
    }
   ],
   "source": [
    "print(classification_report(y_test, y_pred_rfc))"
   ]
  },
  {
   "cell_type": "markdown",
   "metadata": {},
   "source": [
    "### XGBoost Classifier"
   ]
  },
  {
   "cell_type": "code",
   "execution_count": 26,
   "metadata": {
    "ExecuteTime": {
     "end_time": "2020-06-14T14:46:08.462228Z",
     "start_time": "2020-06-14T14:46:05.408832Z"
    }
   },
   "outputs": [
    {
     "data": {
      "text/plain": [
       "Pipeline(memory=None,\n",
       "         steps=[('preprocessor',\n",
       "                 ColumnTransformer(n_jobs=None, remainder='drop',\n",
       "                                   sparse_threshold=0.3,\n",
       "                                   transformer_weights=None,\n",
       "                                   transformers=[('num',\n",
       "                                                  Pipeline(memory=None,\n",
       "                                                           steps=[('scaler',\n",
       "                                                                   RobustScaler(copy=True,\n",
       "                                                                                quantile_range=(25.0,\n",
       "                                                                                                75.0),\n",
       "                                                                                with_centering=True,\n",
       "                                                                                with_scaling=True))],\n",
       "                                                           verbose=False),\n",
       "                                                  ['emp.var.rate', 'euribor3m',\n",
       "                                                   'nr.employed',\n",
       "                                                   'cons....\n",
       "                               interaction_constraints=None,\n",
       "                               learning_rate=0.300000012, max_delta_step=0,\n",
       "                               max_depth=6, min_child_weight=1, missing=nan,\n",
       "                               monotone_constraints=None, n_estimators=100,\n",
       "                               n_jobs=0, num_parallel_tree=1,\n",
       "                               objective='binary:logistic', random_state=101,\n",
       "                               reg_alpha=0, reg_lambda=1, scale_pos_weight=1,\n",
       "                               subsample=1, tree_method=None,\n",
       "                               validate_parameters=False, verbosity=None))],\n",
       "         verbose=False)"
      ]
     },
     "execution_count": 26,
     "metadata": {},
     "output_type": "execute_result"
    }
   ],
   "source": [
    "xgb.fit(X_train, y_train)"
   ]
  },
  {
   "cell_type": "code",
   "execution_count": 27,
   "metadata": {
    "ExecuteTime": {
     "end_time": "2020-06-14T14:46:08.616615Z",
     "start_time": "2020-06-14T14:46:08.474067Z"
    }
   },
   "outputs": [],
   "source": [
    "y_pred_xgb = xgb.predict(X_test)\n",
    "\n",
    "evaluationMetrics(y_test, y_pred_xgb)"
   ]
  },
  {
   "cell_type": "code",
   "execution_count": 28,
   "metadata": {
    "ExecuteTime": {
     "end_time": "2020-06-14T14:46:08.661387Z",
     "start_time": "2020-06-14T14:46:08.624169Z"
    },
    "scrolled": true
   },
   "outputs": [
    {
     "data": {
      "text/plain": [
       "array([[7107,  172],\n",
       "       [ 702,  257]])"
      ]
     },
     "execution_count": 28,
     "metadata": {},
     "output_type": "execute_result"
    }
   ],
   "source": [
    "confusion_matrix(y_test, y_pred_xgb)"
   ]
  },
  {
   "cell_type": "code",
   "execution_count": 29,
   "metadata": {
    "ExecuteTime": {
     "end_time": "2020-06-14T14:46:08.742267Z",
     "start_time": "2020-06-14T14:46:08.665343Z"
    }
   },
   "outputs": [
    {
     "name": "stdout",
     "output_type": "stream",
     "text": [
      "              precision    recall  f1-score   support\n",
      "\n",
      "           0       0.91      0.98      0.94      7279\n",
      "           1       0.60      0.27      0.37       959\n",
      "\n",
      "    accuracy                           0.89      8238\n",
      "   macro avg       0.75      0.62      0.66      8238\n",
      "weighted avg       0.87      0.89      0.88      8238\n",
      "\n"
     ]
    }
   ],
   "source": [
    "print(classification_report(y_test, y_pred_xgb))"
   ]
  },
  {
   "cell_type": "markdown",
   "metadata": {},
   "source": [
    "## Evaluation"
   ]
  },
  {
   "cell_type": "code",
   "execution_count": 30,
   "metadata": {
    "ExecuteTime": {
     "end_time": "2020-06-14T14:46:08.804716Z",
     "start_time": "2020-06-14T14:46:08.748233Z"
    }
   },
   "outputs": [],
   "source": [
    "metricDefault_Original['Macro F1-Score'] = f1\n",
    "metricDefault_Original['Macro Recall'] = recall\n",
    "metricDefault_Original['Macro Precision'] = prec\n",
    "metricDefault_Original['MCC'] = matthews"
   ]
  },
  {
   "cell_type": "markdown",
   "metadata": {},
   "source": [
    "### Evaluation Metrics"
   ]
  },
  {
   "cell_type": "code",
   "execution_count": 31,
   "metadata": {
    "ExecuteTime": {
     "end_time": "2020-06-14T14:46:08.914856Z",
     "start_time": "2020-06-14T14:46:08.808833Z"
    },
    "scrolled": false
   },
   "outputs": [
    {
     "data": {
      "text/html": [
       "<div>\n",
       "<style scoped>\n",
       "    .dataframe tbody tr th:only-of-type {\n",
       "        vertical-align: middle;\n",
       "    }\n",
       "\n",
       "    .dataframe tbody tr th {\n",
       "        vertical-align: top;\n",
       "    }\n",
       "\n",
       "    .dataframe thead th {\n",
       "        text-align: right;\n",
       "    }\n",
       "</style>\n",
       "<table border=\"1\" class=\"dataframe\">\n",
       "  <thead>\n",
       "    <tr style=\"text-align: right;\">\n",
       "      <th></th>\n",
       "      <th>Macro F1-Score</th>\n",
       "      <th>Macro Recall</th>\n",
       "      <th>Macro Precision</th>\n",
       "      <th>MCC</th>\n",
       "    </tr>\n",
       "  </thead>\n",
       "  <tbody>\n",
       "    <tr>\n",
       "      <th>Logistic Regression</th>\n",
       "      <td>0.643394</td>\n",
       "      <td>0.607422</td>\n",
       "      <td>0.790722</td>\n",
       "      <td>0.353439</td>\n",
       "    </tr>\n",
       "    <tr>\n",
       "      <th>Random Forest Classifier</th>\n",
       "      <td>0.651605</td>\n",
       "      <td>0.625915</td>\n",
       "      <td>0.706132</td>\n",
       "      <td>0.322212</td>\n",
       "    </tr>\n",
       "    <tr>\n",
       "      <th>XGBoost Classifier</th>\n",
       "      <td>0.656195</td>\n",
       "      <td>0.622179</td>\n",
       "      <td>0.754586</td>\n",
       "      <td>0.352732</td>\n",
       "    </tr>\n",
       "  </tbody>\n",
       "</table>\n",
       "</div>"
      ],
      "text/plain": [
       "                          Macro F1-Score  Macro Recall  Macro Precision  \\\n",
       "Logistic Regression             0.643394      0.607422         0.790722   \n",
       "Random Forest Classifier        0.651605      0.625915         0.706132   \n",
       "XGBoost Classifier              0.656195      0.622179         0.754586   \n",
       "\n",
       "                               MCC  \n",
       "Logistic Regression       0.353439  \n",
       "Random Forest Classifier  0.322212  \n",
       "XGBoost Classifier        0.352732  "
      ]
     },
     "execution_count": 31,
     "metadata": {},
     "output_type": "execute_result"
    }
   ],
   "source": [
    "metricDefault_Original"
   ]
  },
  {
   "cell_type": "markdown",
   "metadata": {},
   "source": [
    "> <p style=\"font-family:'Courier New'\">Dapat dilihat bahwa XGBoost (default) menjadi model terbaik untuk dataset orginal. "
   ]
  },
  {
   "cell_type": "markdown",
   "metadata": {},
   "source": [
    "### Learning Curves"
   ]
  },
  {
   "cell_type": "markdown",
   "metadata": {},
   "source": [
    "#### Logistic Regresion"
   ]
  },
  {
   "cell_type": "code",
   "execution_count": 32,
   "metadata": {
    "ExecuteTime": {
     "end_time": "2020-06-14T14:46:23.375982Z",
     "start_time": "2020-06-14T14:46:08.919730Z"
    },
    "scrolled": true
   },
   "outputs": [
    {
     "data": {
      "image/png": "[encoded data removed]",
      "text/plain": [
       "<Figure size 576x396 with 1 Axes>"
      ]
     },
     "metadata": {},
     "output_type": "display_data"
    },
    {
     "data": {
      "text/plain": [
       "<matplotlib.axes._subplots.AxesSubplot at 0x7fc5485c9190>"
      ]
     },
     "execution_count": 32,
     "metadata": {},
     "output_type": "execute_result"
    }
   ],
   "source": [
    "sizes = np.linspace(0.3, 1, 10)\n",
    "\n",
    "visualizer = LearningCurve(\n",
    "    logreg, scoring = 'f1_macro', train_size = sizes, random_state = 101, cv = 5\n",
    ")\n",
    "\n",
    "visualizer.fit(X_train, y_train)\n",
    "visualizer.show()"
   ]
  },
  {
   "cell_type": "markdown",
   "metadata": {},
   "source": [
    "><p style=\"font-family:'Courier New'\">Pada logistic regression score berubah-berubah, adanya penurunan saat di training instances di bawah 10000, kemudian dia naik lagi dan terus menaik. Pada akhirnya titik training score lebih tinggi dari validation score. "
   ]
  },
  {
   "cell_type": "markdown",
   "metadata": {},
   "source": [
    "#### Random Forest Classifier"
   ]
  },
  {
   "cell_type": "code",
   "execution_count": 33,
   "metadata": {
    "ExecuteTime": {
     "end_time": "2020-06-14T14:47:40.524755Z",
     "start_time": "2020-06-14T14:46:23.379768Z"
    },
    "scrolled": true
   },
   "outputs": [
    {
     "data": {
      "image/png": "[encoded data removed]",
      "text/plain": [
       "<Figure size 576x396 with 1 Axes>"
      ]
     },
     "metadata": {},
     "output_type": "display_data"
    },
    {
     "data": {
      "text/plain": [
       "<matplotlib.axes._subplots.AxesSubplot at 0x7fc546d08e50>"
      ]
     },
     "execution_count": 33,
     "metadata": {},
     "output_type": "execute_result"
    }
   ],
   "source": [
    "sizes = np.linspace(0.3, 1, 10)\n",
    "\n",
    "visualizer = LearningCurve(\n",
    "    rfc, scoring = 'f1_macro', train_size = sizes, random_state = 101, cv = 5\n",
    ")\n",
    "\n",
    "visualizer.fit(X_train, y_train)\n",
    "visualizer.show()"
   ]
  },
  {
   "cell_type": "markdown",
   "metadata": {},
   "source": [
    "> <p style=\"font-family:'Courier New'\">Model di atas menunjukkan model mengalami <i>overfitting.</i> Namun itu bukanlah sesuatu yang mengejutkan mengingat Random Forest default memiliki max_depth = None."
   ]
  },
  {
   "cell_type": "markdown",
   "metadata": {},
   "source": [
    "#### XGBoost Classifier"
   ]
  },
  {
   "cell_type": "code",
   "execution_count": 34,
   "metadata": {
    "ExecuteTime": {
     "end_time": "2020-06-14T14:48:14.780513Z",
     "start_time": "2020-06-14T14:47:40.529507Z"
    },
    "scrolled": true
   },
   "outputs": [
    {
     "data": {
      "image/png": "[encoded data removed]",
      "text/plain": [
       "<Figure size 576x396 with 1 Axes>"
      ]
     },
     "metadata": {},
     "output_type": "display_data"
    },
    {
     "data": {
      "text/plain": [
       "<matplotlib.axes._subplots.AxesSubplot at 0x7fc548918c10>"
      ]
     },
     "execution_count": 34,
     "metadata": {},
     "output_type": "execute_result"
    }
   ],
   "source": [
    "sizes = np.linspace(0.3, 1, 10)\n",
    "\n",
    "visualizer = LearningCurve(\n",
    "    xgb, scoring = 'f1_macro', train_size = sizes, random_state = 101, cv = 5\n",
    ")\n",
    "\n",
    "visualizer.fit(X_train, y_train)\n",
    "visualizer.show()"
   ]
  },
  {
   "cell_type": "markdown",
   "metadata": {},
   "source": [
    "> <p style=\"font-family:'Courier New'\">XGBoost juga sama dengan Random Forest, dia juga mengalami overfitting. Namun memang tidak separah Random Forest. "
   ]
  },
  {
   "cell_type": "markdown",
   "metadata": {},
   "source": [
    "# ModelDefault-With Smote"
   ]
  },
  {
   "cell_type": "code",
   "execution_count": 35,
   "metadata": {
    "ExecuteTime": {
     "end_time": "2020-06-14T14:48:14.794870Z",
     "start_time": "2020-06-14T14:48:14.784661Z"
    }
   },
   "outputs": [],
   "source": [
    "metricDefault_smote = pd.DataFrame(index = ['Logistic Regression (with SMOTE)', \n",
    "                                             'Random Forest Classifier (with SMOTE)', \n",
    "                                             'XGBoost Classifier (with SMOTE)']) \n",
    "f1 = []\n",
    "prec = []\n",
    "recall = []\n",
    "matthews = []"
   ]
  },
  {
   "cell_type": "markdown",
   "metadata": {},
   "source": [
    "## Smote"
   ]
  },
  {
   "cell_type": "code",
   "execution_count": 36,
   "metadata": {
    "ExecuteTime": {
     "end_time": "2020-06-14T14:48:14.928964Z",
     "start_time": "2020-06-14T14:48:14.798930Z"
    }
   },
   "outputs": [],
   "source": [
    "sm = SMOTE(random_state=101, sampling_strategy=1.0)"
   ]
  },
  {
   "cell_type": "code",
   "execution_count": 37,
   "metadata": {
    "ExecuteTime": {
     "end_time": "2020-06-14T14:48:15.030114Z",
     "start_time": "2020-06-14T14:48:14.936983Z"
    }
   },
   "outputs": [],
   "source": [
    "logreg_smote = Pipeline(steps=[('preprocessor', preprocessor), ('smote', sm),\n",
    "                      ('logreg', LogisticRegression(random_state = 101))])\n",
    "\n",
    "rfc_smote = Pipeline(steps=[('preprocessor', preprocessor), ('smote', sm),\n",
    "                      ('rfc', RandomForestClassifier(random_state = 101))])\n",
    "\n",
    "xgb_smote = Pipeline(steps=[('preprocessor', preprocessor), ('smote', sm),\n",
    "                      ('xgb', XGBClassifier(random_state = 101))])"
   ]
  },
  {
   "cell_type": "markdown",
   "metadata": {},
   "source": [
    "## Logistic Regression"
   ]
  },
  {
   "cell_type": "code",
   "execution_count": 38,
   "metadata": {
    "ExecuteTime": {
     "end_time": "2020-06-14T14:48:16.791812Z",
     "start_time": "2020-06-14T14:48:15.034334Z"
    }
   },
   "outputs": [
    {
     "data": {
      "text/plain": [
       "Pipeline(memory=None,\n",
       "         steps=[('preprocessor',\n",
       "                 ColumnTransformer(n_jobs=None, remainder='drop',\n",
       "                                   sparse_threshold=0.3,\n",
       "                                   transformer_weights=None,\n",
       "                                   transformers=[('num',\n",
       "                                                  Pipeline(memory=None,\n",
       "                                                           steps=[('scaler',\n",
       "                                                                   RobustScaler(copy=True,\n",
       "                                                                                quantile_range=(25.0,\n",
       "                                                                                                75.0),\n",
       "                                                                                with_centering=True,\n",
       "                                                                                with_scaling=True))],\n",
       "                                                           verbose=False),\n",
       "                                                  ['emp.var.rate', 'euribor3m',\n",
       "                                                   'nr.employed',\n",
       "                                                   'cons....\n",
       "                                   verbose=False)),\n",
       "                ('smote',\n",
       "                 SMOTE(k_neighbors=5, n_jobs=None, random_state=101,\n",
       "                       sampling_strategy=1.0)),\n",
       "                ('logreg',\n",
       "                 LogisticRegression(C=1.0, class_weight=None, dual=False,\n",
       "                                    fit_intercept=True, intercept_scaling=1,\n",
       "                                    l1_ratio=None, max_iter=100,\n",
       "                                    multi_class='auto', n_jobs=None,\n",
       "                                    penalty='l2', random_state=101,\n",
       "                                    solver='lbfgs', tol=0.0001, verbose=0,\n",
       "                                    warm_start=False))],\n",
       "         verbose=False)"
      ]
     },
     "execution_count": 38,
     "metadata": {},
     "output_type": "execute_result"
    }
   ],
   "source": [
    "logreg_smote.fit(X_train, y_train)"
   ]
  },
  {
   "cell_type": "code",
   "execution_count": 39,
   "metadata": {
    "ExecuteTime": {
     "end_time": "2020-06-14T14:48:16.886573Z",
     "start_time": "2020-06-14T14:48:16.795712Z"
    }
   },
   "outputs": [],
   "source": [
    "y_pred_log_smote = logreg_smote.predict(X_test)\n",
    "\n",
    "evaluationMetrics(y_test, y_pred_log_smote)"
   ]
  },
  {
   "cell_type": "code",
   "execution_count": 40,
   "metadata": {
    "ExecuteTime": {
     "end_time": "2020-06-14T14:48:16.958378Z",
     "start_time": "2020-06-14T14:48:16.890325Z"
    }
   },
   "outputs": [
    {
     "data": {
      "text/plain": [
       "array([[6295,  984],\n",
       "       [ 372,  587]])"
      ]
     },
     "execution_count": 40,
     "metadata": {},
     "output_type": "execute_result"
    }
   ],
   "source": [
    "confusion_matrix(y_test, y_pred_log_smote)"
   ]
  },
  {
   "cell_type": "code",
   "execution_count": 41,
   "metadata": {
    "ExecuteTime": {
     "end_time": "2020-06-14T14:48:17.056287Z",
     "start_time": "2020-06-14T14:48:16.962499Z"
    }
   },
   "outputs": [
    {
     "name": "stdout",
     "output_type": "stream",
     "text": [
      "              precision    recall  f1-score   support\n",
      "\n",
      "           0       0.94      0.86      0.90      7279\n",
      "           1       0.37      0.61      0.46       959\n",
      "\n",
      "    accuracy                           0.84      8238\n",
      "   macro avg       0.66      0.74      0.68      8238\n",
      "weighted avg       0.88      0.84      0.85      8238\n",
      "\n"
     ]
    }
   ],
   "source": [
    "print(classification_report(y_test, y_pred_log_smote))"
   ]
  },
  {
   "cell_type": "markdown",
   "metadata": {},
   "source": [
    "## Random Forest Classifier"
   ]
  },
  {
   "cell_type": "code",
   "execution_count": 42,
   "metadata": {
    "ExecuteTime": {
     "end_time": "2020-06-14T14:48:29.827613Z",
     "start_time": "2020-06-14T14:48:17.060419Z"
    },
    "scrolled": true
   },
   "outputs": [
    {
     "data": {
      "text/plain": [
       "Pipeline(memory=None,\n",
       "         steps=[('preprocessor',\n",
       "                 ColumnTransformer(n_jobs=None, remainder='drop',\n",
       "                                   sparse_threshold=0.3,\n",
       "                                   transformer_weights=None,\n",
       "                                   transformers=[('num',\n",
       "                                                  Pipeline(memory=None,\n",
       "                                                           steps=[('scaler',\n",
       "                                                                   RobustScaler(copy=True,\n",
       "                                                                                quantile_range=(25.0,\n",
       "                                                                                                75.0),\n",
       "                                                                                with_centering=True,\n",
       "                                                                                with_scaling=True))],\n",
       "                                                           verbose=False),\n",
       "                                                  ['emp.var.rate', 'euribor3m',\n",
       "                                                   'nr.employed',\n",
       "                                                   'cons....\n",
       "                 RandomForestClassifier(bootstrap=True, ccp_alpha=0.0,\n",
       "                                        class_weight=None, criterion='gini',\n",
       "                                        max_depth=None, max_features='auto',\n",
       "                                        max_leaf_nodes=None, max_samples=None,\n",
       "                                        min_impurity_decrease=0.0,\n",
       "                                        min_impurity_split=None,\n",
       "                                        min_samples_leaf=1, min_samples_split=2,\n",
       "                                        min_weight_fraction_leaf=0.0,\n",
       "                                        n_estimators=100, n_jobs=None,\n",
       "                                        oob_score=False, random_state=101,\n",
       "                                        verbose=0, warm_start=False))],\n",
       "         verbose=False)"
      ]
     },
     "execution_count": 42,
     "metadata": {},
     "output_type": "execute_result"
    }
   ],
   "source": [
    "rfc_smote.fit(X_train, y_train)"
   ]
  },
  {
   "cell_type": "code",
   "execution_count": 43,
   "metadata": {
    "ExecuteTime": {
     "end_time": "2020-06-14T14:48:30.253868Z",
     "start_time": "2020-06-14T14:48:29.831310Z"
    }
   },
   "outputs": [],
   "source": [
    "y_pred_rfc_smote = rfc_smote.predict(X_test)\n",
    "\n",
    "evaluationMetrics(y_test, y_pred_rfc_smote)"
   ]
  },
  {
   "cell_type": "code",
   "execution_count": 44,
   "metadata": {
    "ExecuteTime": {
     "end_time": "2020-06-14T14:48:30.287352Z",
     "start_time": "2020-06-14T14:48:30.257638Z"
    }
   },
   "outputs": [
    {
     "data": {
      "text/plain": [
       "array([[6653,  626],\n",
       "       [ 576,  383]])"
      ]
     },
     "execution_count": 44,
     "metadata": {},
     "output_type": "execute_result"
    }
   ],
   "source": [
    "confusion_matrix(y_test, y_pred_rfc_smote)"
   ]
  },
  {
   "cell_type": "code",
   "execution_count": 45,
   "metadata": {
    "ExecuteTime": {
     "end_time": "2020-06-14T14:48:30.418198Z",
     "start_time": "2020-06-14T14:48:30.291476Z"
    }
   },
   "outputs": [
    {
     "name": "stdout",
     "output_type": "stream",
     "text": [
      "              precision    recall  f1-score   support\n",
      "\n",
      "           0       0.92      0.91      0.92      7279\n",
      "           1       0.38      0.40      0.39       959\n",
      "\n",
      "    accuracy                           0.85      8238\n",
      "   macro avg       0.65      0.66      0.65      8238\n",
      "weighted avg       0.86      0.85      0.86      8238\n",
      "\n"
     ]
    }
   ],
   "source": [
    "print(classification_report(y_test, y_pred_rfc_smote))"
   ]
  },
  {
   "cell_type": "markdown",
   "metadata": {},
   "source": [
    "## XGBoost Classifier"
   ]
  },
  {
   "cell_type": "code",
   "execution_count": 46,
   "metadata": {
    "ExecuteTime": {
     "end_time": "2020-06-14T14:48:35.466690Z",
     "start_time": "2020-06-14T14:48:30.422877Z"
    }
   },
   "outputs": [
    {
     "data": {
      "text/plain": [
       "Pipeline(memory=None,\n",
       "         steps=[('preprocessor',\n",
       "                 ColumnTransformer(n_jobs=None, remainder='drop',\n",
       "                                   sparse_threshold=0.3,\n",
       "                                   transformer_weights=None,\n",
       "                                   transformers=[('num',\n",
       "                                                  Pipeline(memory=None,\n",
       "                                                           steps=[('scaler',\n",
       "                                                                   RobustScaler(copy=True,\n",
       "                                                                                quantile_range=(25.0,\n",
       "                                                                                                75.0),\n",
       "                                                                                with_centering=True,\n",
       "                                                                                with_scaling=True))],\n",
       "                                                           verbose=False),\n",
       "                                                  ['emp.var.rate', 'euribor3m',\n",
       "                                                   'nr.employed',\n",
       "                                                   'cons....\n",
       "                               interaction_constraints=None,\n",
       "                               learning_rate=0.300000012, max_delta_step=0,\n",
       "                               max_depth=6, min_child_weight=1, missing=nan,\n",
       "                               monotone_constraints=None, n_estimators=100,\n",
       "                               n_jobs=0, num_parallel_tree=1,\n",
       "                               objective='binary:logistic', random_state=101,\n",
       "                               reg_alpha=0, reg_lambda=1, scale_pos_weight=1,\n",
       "                               subsample=1, tree_method=None,\n",
       "                               validate_parameters=False, verbosity=None))],\n",
       "         verbose=False)"
      ]
     },
     "execution_count": 46,
     "metadata": {},
     "output_type": "execute_result"
    }
   ],
   "source": [
    "xgb_smote.fit(X_train, y_train)"
   ]
  },
  {
   "cell_type": "code",
   "execution_count": 47,
   "metadata": {
    "ExecuteTime": {
     "end_time": "2020-06-14T14:48:35.614313Z",
     "start_time": "2020-06-14T14:48:35.470224Z"
    }
   },
   "outputs": [],
   "source": [
    "y_pred_xgb_smote = xgb_smote.predict(X_test)\n",
    "\n",
    "evaluationMetrics(y_test, y_pred_xgb_smote)"
   ]
  },
  {
   "cell_type": "code",
   "execution_count": 48,
   "metadata": {
    "ExecuteTime": {
     "end_time": "2020-06-14T14:48:35.647708Z",
     "start_time": "2020-06-14T14:48:35.617939Z"
    }
   },
   "outputs": [
    {
     "data": {
      "text/plain": [
       "array([[6652,  627],\n",
       "       [ 471,  488]])"
      ]
     },
     "execution_count": 48,
     "metadata": {},
     "output_type": "execute_result"
    }
   ],
   "source": [
    "confusion_matrix(y_test, y_pred_xgb_smote)"
   ]
  },
  {
   "cell_type": "code",
   "execution_count": 49,
   "metadata": {
    "ExecuteTime": {
     "end_time": "2020-06-14T14:48:35.744542Z",
     "start_time": "2020-06-14T14:48:35.651668Z"
    }
   },
   "outputs": [
    {
     "name": "stdout",
     "output_type": "stream",
     "text": [
      "              precision    recall  f1-score   support\n",
      "\n",
      "           0       0.93      0.91      0.92      7279\n",
      "           1       0.44      0.51      0.47       959\n",
      "\n",
      "    accuracy                           0.87      8238\n",
      "   macro avg       0.69      0.71      0.70      8238\n",
      "weighted avg       0.88      0.87      0.87      8238\n",
      "\n"
     ]
    }
   ],
   "source": [
    "print(classification_report(y_test, y_pred_xgb_smote))"
   ]
  },
  {
   "cell_type": "markdown",
   "metadata": {},
   "source": [
    "## Evaluation\n",
    "\n",
    "### Evaluation Metrics"
   ]
  },
  {
   "cell_type": "code",
   "execution_count": 50,
   "metadata": {
    "ExecuteTime": {
     "end_time": "2020-06-14T14:48:35.790831Z",
     "start_time": "2020-06-14T14:48:35.748375Z"
    }
   },
   "outputs": [],
   "source": [
    "metricDefault_smote['Macro F1-Score'] = f1\n",
    "metricDefault_smote['Macro Recall'] = recall\n",
    "metricDefault_smote['Macro Precision'] = prec\n",
    "metricDefault_smote['MCC'] = matthews"
   ]
  },
  {
   "cell_type": "code",
   "execution_count": 51,
   "metadata": {
    "ExecuteTime": {
     "end_time": "2020-06-14T14:48:35.893233Z",
     "start_time": "2020-06-14T14:48:35.799926Z"
    },
    "scrolled": true
   },
   "outputs": [
    {
     "data": {
      "text/html": [
       "<div>\n",
       "<style scoped>\n",
       "    .dataframe tbody tr th:only-of-type {\n",
       "        vertical-align: middle;\n",
       "    }\n",
       "\n",
       "    .dataframe tbody tr th {\n",
       "        vertical-align: top;\n",
       "    }\n",
       "\n",
       "    .dataframe thead th {\n",
       "        text-align: right;\n",
       "    }\n",
       "</style>\n",
       "<table border=\"1\" class=\"dataframe\">\n",
       "  <thead>\n",
       "    <tr style=\"text-align: right;\">\n",
       "      <th></th>\n",
       "      <th>Macro F1-Score</th>\n",
       "      <th>Macro Recall</th>\n",
       "      <th>Macro Precision</th>\n",
       "      <th>MCC</th>\n",
       "    </tr>\n",
       "  </thead>\n",
       "  <tbody>\n",
       "    <tr>\n",
       "      <th>Logistic Regression (with SMOTE)</th>\n",
       "      <td>0.683400</td>\n",
       "      <td>0.738456</td>\n",
       "      <td>0.658925</td>\n",
       "      <td>0.389341</td>\n",
       "    </tr>\n",
       "    <tr>\n",
       "      <th>Random Forest Classifier (with SMOTE)</th>\n",
       "      <td>0.653188</td>\n",
       "      <td>0.656687</td>\n",
       "      <td>0.649952</td>\n",
       "      <td>0.306565</td>\n",
       "    </tr>\n",
       "    <tr>\n",
       "      <th>XGBoost Classifier (with SMOTE)</th>\n",
       "      <td>0.697174</td>\n",
       "      <td>0.711363</td>\n",
       "      <td>0.685772</td>\n",
       "      <td>0.396309</td>\n",
       "    </tr>\n",
       "  </tbody>\n",
       "</table>\n",
       "</div>"
      ],
      "text/plain": [
       "                                       Macro F1-Score  Macro Recall  \\\n",
       "Logistic Regression (with SMOTE)             0.683400      0.738456   \n",
       "Random Forest Classifier (with SMOTE)        0.653188      0.656687   \n",
       "XGBoost Classifier (with SMOTE)              0.697174      0.711363   \n",
       "\n",
       "                                       Macro Precision       MCC  \n",
       "Logistic Regression (with SMOTE)              0.658925  0.389341  \n",
       "Random Forest Classifier (with SMOTE)         0.649952  0.306565  \n",
       "XGBoost Classifier (with SMOTE)               0.685772  0.396309  "
      ]
     },
     "execution_count": 51,
     "metadata": {},
     "output_type": "execute_result"
    }
   ],
   "source": [
    "metricDefault_smote"
   ]
  },
  {
   "cell_type": "markdown",
   "metadata": {},
   "source": [
    "><p style=\"font-family:'Courier New'\">Pada dataset oversampling XGBoost Classifier masih menjadi model terbaik. "
   ]
  },
  {
   "cell_type": "markdown",
   "metadata": {},
   "source": [
    "### Learning Curves"
   ]
  },
  {
   "cell_type": "code",
   "execution_count": 52,
   "metadata": {
    "ExecuteTime": {
     "end_time": "2020-06-14T14:48:58.191470Z",
     "start_time": "2020-06-14T14:48:35.897797Z"
    },
    "scrolled": true
   },
   "outputs": [
    {
     "data": {
      "image/png": "[encoded data removed]",
      "text/plain": [
       "<Figure size 576x396 with 1 Axes>"
      ]
     },
     "metadata": {},
     "output_type": "display_data"
    },
    {
     "data": {
      "text/plain": [
       "<matplotlib.axes._subplots.AxesSubplot at 0x7fc54871bed0>"
      ]
     },
     "execution_count": 52,
     "metadata": {},
     "output_type": "execute_result"
    }
   ],
   "source": [
    "sizes = np.linspace(0.3, 1, 10)\n",
    "\n",
    "visualizer = LearningCurve(\n",
    "    logreg_smote, scoring = 'f1_macro', train_size = sizes, random_state = 101, cv = 5\n",
    ")\n",
    "\n",
    "visualizer.fit(X_train, y_train)\n",
    "visualizer.show()"
   ]
  },
  {
   "cell_type": "markdown",
   "metadata": {},
   "source": [
    "> <p style=\"font-family:'Courier New'\">Sebetulnya, ini pertama kalinya saya melihat score dari dataset test terus lebih baik dari dataset trainingnya. Namun ternyata menurut artikel [1], ada beberapa alasan hal ini dapat terjadi, dan salah satu alasan yang cukup relevan, bahwa dataset tes kita jauh lebih mudah diprediksi daripada data trainingnya. Namun saya masih tidak dapat melihat bagaimana saya menyelesaikan masalah ini. \n",
    "\n",
    "[1] https://www.pyimagesearch.com/2019/10/14/why-is-my-validation-loss-lower-than-my-training-loss/"
   ]
  },
  {
   "cell_type": "code",
   "execution_count": 53,
   "metadata": {
    "ExecuteTime": {
     "end_time": "2020-06-14T14:51:29.633583Z",
     "start_time": "2020-06-14T14:48:58.195147Z"
    }
   },
   "outputs": [
    {
     "data": {
      "image/png": "[encoded data removed]",
      "text/plain": [
       "<Figure size 576x396 with 1 Axes>"
      ]
     },
     "metadata": {},
     "output_type": "display_data"
    },
    {
     "data": {
      "text/plain": [
       "<matplotlib.axes._subplots.AxesSubplot at 0x7fc546bf2490>"
      ]
     },
     "execution_count": 53,
     "metadata": {},
     "output_type": "execute_result"
    }
   ],
   "source": [
    "sizes = np.linspace(0.3, 1, 10)\n",
    "\n",
    "visualizer = LearningCurve(\n",
    "    rfc_smote, scoring = 'f1_macro', train_size = sizes, random_state = 101, cv = 5\n",
    ")\n",
    "\n",
    "visualizer.fit(X_train, y_train)\n",
    "visualizer.show()"
   ]
  },
  {
   "cell_type": "markdown",
   "metadata": {},
   "source": [
    "> <p style=\"font-family:'Courier New'\">Model masih mengalami overfitting, namun lebih baik dari sebelum-sebelumnya. Mengingat salah satu solusi pada overfitting adalah menambahkan data training, itu kenapa SMOTE agak mengurangi overfitting pada model. "
   ]
  },
  {
   "cell_type": "code",
   "execution_count": 54,
   "metadata": {
    "ExecuteTime": {
     "end_time": "2020-06-14T14:52:31.112166Z",
     "start_time": "2020-06-14T14:51:29.638591Z"
    }
   },
   "outputs": [
    {
     "data": {
      "image/png": "[encoded data removed]",
      "text/plain": [
       "<Figure size 576x396 with 1 Axes>"
      ]
     },
     "metadata": {},
     "output_type": "display_data"
    },
    {
     "data": {
      "text/plain": [
       "<matplotlib.axes._subplots.AxesSubplot at 0x7fc546bad810>"
      ]
     },
     "execution_count": 54,
     "metadata": {},
     "output_type": "execute_result"
    }
   ],
   "source": [
    "sizes = np.linspace(0.3, 1, 10)\n",
    "\n",
    "visualizer = LearningCurve(\n",
    "    xgb_smote, scoring = 'f1_macro', train_size = sizes, random_state = 101, cv = 5\n",
    ")\n",
    "\n",
    "visualizer.fit(X_train, y_train)\n",
    "visualizer.show()"
   ]
  },
  {
   "cell_type": "markdown",
   "metadata": {},
   "source": [
    "> <p style=\"font-family:'Courier New'\">Begitu juga dengan XGBoost, dia juga masih mengalami overfitting namun jauh lebih baik daripada tadi. Menambahkan training dataset akan membantu dalam kasus ini."
   ]
  },
  {
   "cell_type": "markdown",
   "metadata": {},
   "source": [
    "# ModelDefault-Nearmiss"
   ]
  },
  {
   "cell_type": "code",
   "execution_count": 55,
   "metadata": {
    "ExecuteTime": {
     "end_time": "2020-06-14T14:52:31.128847Z",
     "start_time": "2020-06-14T14:52:31.116869Z"
    }
   },
   "outputs": [],
   "source": [
    "metricDefault_nearmiss = pd.DataFrame(index = ['Logistic Regression (with Nearmiss)',\n",
    "                                             'Random Forest Classifier (with Nearmiss)',\n",
    "                                             'XGBoost Classifier (with NearMiss)']) \n",
    "f1 = []\n",
    "prec = []\n",
    "recall = []\n",
    "matthews = []\n",
    "auc = []"
   ]
  },
  {
   "cell_type": "code",
   "execution_count": 56,
   "metadata": {
    "ExecuteTime": {
     "end_time": "2020-06-14T14:52:31.220835Z",
     "start_time": "2020-06-14T14:52:31.132965Z"
    }
   },
   "outputs": [],
   "source": [
    "nr = NearMiss()"
   ]
  },
  {
   "cell_type": "code",
   "execution_count": 57,
   "metadata": {
    "ExecuteTime": {
     "end_time": "2020-06-14T14:52:31.310856Z",
     "start_time": "2020-06-14T14:52:31.224970Z"
    }
   },
   "outputs": [],
   "source": [
    "logreg_nearmiss = Pipeline(steps=[('preprocessor', preprocessor), ('nearmiss', nr),\n",
    "                      ('logreg', LogisticRegression(random_state = 101))])\n",
    "\n",
    "rfc_nearmiss = Pipeline(steps=[('preprocessor', preprocessor), ('nearmiss', nr),\n",
    "                      ('rfc', RandomForestClassifier(random_state = 101))])\n",
    "\n",
    "xgb_nearmiss = Pipeline(steps=[('preprocessor', preprocessor), ('nearmiss', nr),\n",
    "                      ('xgb', XGBClassifier(random_state = 101))])"
   ]
  },
  {
   "cell_type": "markdown",
   "metadata": {},
   "source": [
    "## Logistic Regression"
   ]
  },
  {
   "cell_type": "code",
   "execution_count": 58,
   "metadata": {
    "ExecuteTime": {
     "end_time": "2020-06-14T14:52:32.450429Z",
     "start_time": "2020-06-14T14:52:31.315294Z"
    },
    "scrolled": true
   },
   "outputs": [
    {
     "data": {
      "text/plain": [
       "Pipeline(memory=None,\n",
       "         steps=[('preprocessor',\n",
       "                 ColumnTransformer(n_jobs=None, remainder='drop',\n",
       "                                   sparse_threshold=0.3,\n",
       "                                   transformer_weights=None,\n",
       "                                   transformers=[('num',\n",
       "                                                  Pipeline(memory=None,\n",
       "                                                           steps=[('scaler',\n",
       "                                                                   RobustScaler(copy=True,\n",
       "                                                                                quantile_range=(25.0,\n",
       "                                                                                                75.0),\n",
       "                                                                                with_centering=True,\n",
       "                                                                                with_scaling=True))],\n",
       "                                                           verbose=False),\n",
       "                                                  ['emp.var.rate', 'euribor3m',\n",
       "                                                   'nr.employed',\n",
       "                                                   'cons....\n",
       "                 NearMiss(n_jobs=None, n_neighbors=3, n_neighbors_ver3=3,\n",
       "                          sampling_strategy='auto', version=1)),\n",
       "                ('logreg',\n",
       "                 LogisticRegression(C=1.0, class_weight=None, dual=False,\n",
       "                                    fit_intercept=True, intercept_scaling=1,\n",
       "                                    l1_ratio=None, max_iter=100,\n",
       "                                    multi_class='auto', n_jobs=None,\n",
       "                                    penalty='l2', random_state=101,\n",
       "                                    solver='lbfgs', tol=0.0001, verbose=0,\n",
       "                                    warm_start=False))],\n",
       "         verbose=False)"
      ]
     },
     "execution_count": 58,
     "metadata": {},
     "output_type": "execute_result"
    }
   ],
   "source": [
    "logreg_nearmiss.fit(X_train, y_train)"
   ]
  },
  {
   "cell_type": "code",
   "execution_count": 59,
   "metadata": {
    "ExecuteTime": {
     "end_time": "2020-06-14T14:52:32.538335Z",
     "start_time": "2020-06-14T14:52:32.455013Z"
    }
   },
   "outputs": [],
   "source": [
    "y_pred_logreg_nearmiss = logreg_nearmiss.predict(X_test)\n",
    "\n",
    "evaluationMetrics(y_test, y_pred_logreg_nearmiss)"
   ]
  },
  {
   "cell_type": "code",
   "execution_count": 60,
   "metadata": {
    "ExecuteTime": {
     "end_time": "2020-06-14T14:52:32.595635Z",
     "start_time": "2020-06-14T14:52:32.542326Z"
    },
    "scrolled": true
   },
   "outputs": [
    {
     "data": {
      "text/plain": [
       "array([[5715, 1564],\n",
       "       [ 372,  587]])"
      ]
     },
     "execution_count": 60,
     "metadata": {},
     "output_type": "execute_result"
    }
   ],
   "source": [
    "confusion_matrix(y_test, y_pred_logreg_nearmiss)"
   ]
  },
  {
   "cell_type": "code",
   "execution_count": 61,
   "metadata": {
    "ExecuteTime": {
     "end_time": "2020-06-14T14:52:32.707133Z",
     "start_time": "2020-06-14T14:52:32.599666Z"
    }
   },
   "outputs": [
    {
     "name": "stdout",
     "output_type": "stream",
     "text": [
      "              precision    recall  f1-score   support\n",
      "\n",
      "           0       0.94      0.79      0.86      7279\n",
      "           1       0.27      0.61      0.38       959\n",
      "\n",
      "    accuracy                           0.76      8238\n",
      "   macro avg       0.61      0.70      0.62      8238\n",
      "weighted avg       0.86      0.76      0.80      8238\n",
      "\n"
     ]
    }
   ],
   "source": [
    "print(classification_report(y_test, y_pred_logreg_nearmiss))"
   ]
  },
  {
   "cell_type": "markdown",
   "metadata": {},
   "source": [
    "## Random Forest Classifier"
   ]
  },
  {
   "cell_type": "code",
   "execution_count": 62,
   "metadata": {
    "ExecuteTime": {
     "end_time": "2020-06-14T14:52:34.646528Z",
     "start_time": "2020-06-14T14:52:32.711095Z"
    }
   },
   "outputs": [
    {
     "data": {
      "text/plain": [
       "Pipeline(memory=None,\n",
       "         steps=[('preprocessor',\n",
       "                 ColumnTransformer(n_jobs=None, remainder='drop',\n",
       "                                   sparse_threshold=0.3,\n",
       "                                   transformer_weights=None,\n",
       "                                   transformers=[('num',\n",
       "                                                  Pipeline(memory=None,\n",
       "                                                           steps=[('scaler',\n",
       "                                                                   RobustScaler(copy=True,\n",
       "                                                                                quantile_range=(25.0,\n",
       "                                                                                                75.0),\n",
       "                                                                                with_centering=True,\n",
       "                                                                                with_scaling=True))],\n",
       "                                                           verbose=False),\n",
       "                                                  ['emp.var.rate', 'euribor3m',\n",
       "                                                   'nr.employed',\n",
       "                                                   'cons....\n",
       "                 RandomForestClassifier(bootstrap=True, ccp_alpha=0.0,\n",
       "                                        class_weight=None, criterion='gini',\n",
       "                                        max_depth=None, max_features='auto',\n",
       "                                        max_leaf_nodes=None, max_samples=None,\n",
       "                                        min_impurity_decrease=0.0,\n",
       "                                        min_impurity_split=None,\n",
       "                                        min_samples_leaf=1, min_samples_split=2,\n",
       "                                        min_weight_fraction_leaf=0.0,\n",
       "                                        n_estimators=100, n_jobs=None,\n",
       "                                        oob_score=False, random_state=101,\n",
       "                                        verbose=0, warm_start=False))],\n",
       "         verbose=False)"
      ]
     },
     "execution_count": 62,
     "metadata": {},
     "output_type": "execute_result"
    }
   ],
   "source": [
    "rfc_nearmiss.fit(X_train, y_train)"
   ]
  },
  {
   "cell_type": "code",
   "execution_count": 63,
   "metadata": {
    "ExecuteTime": {
     "end_time": "2020-06-14T14:52:34.944543Z",
     "start_time": "2020-06-14T14:52:34.650043Z"
    }
   },
   "outputs": [],
   "source": [
    "y_pred_rfc_nearmiss = rfc_nearmiss.predict(X_test)\n",
    "\n",
    "evaluationMetrics(y_test, y_pred_rfc_nearmiss)"
   ]
  },
  {
   "cell_type": "code",
   "execution_count": 64,
   "metadata": {
    "ExecuteTime": {
     "end_time": "2020-06-14T14:52:34.977137Z",
     "start_time": "2020-06-14T14:52:34.948309Z"
    }
   },
   "outputs": [
    {
     "data": {
      "text/plain": [
       "array([[1323, 5956],\n",
       "       [ 104,  855]])"
      ]
     },
     "execution_count": 64,
     "metadata": {},
     "output_type": "execute_result"
    }
   ],
   "source": [
    "confusion_matrix(y_test, y_pred_rfc_nearmiss)"
   ]
  },
  {
   "cell_type": "code",
   "execution_count": 65,
   "metadata": {
    "ExecuteTime": {
     "end_time": "2020-06-14T14:52:35.103711Z",
     "start_time": "2020-06-14T14:52:34.981604Z"
    }
   },
   "outputs": [
    {
     "name": "stdout",
     "output_type": "stream",
     "text": [
      "              precision    recall  f1-score   support\n",
      "\n",
      "           0       0.93      0.18      0.30      7279\n",
      "           1       0.13      0.89      0.22       959\n",
      "\n",
      "    accuracy                           0.26      8238\n",
      "   macro avg       0.53      0.54      0.26      8238\n",
      "weighted avg       0.83      0.26      0.29      8238\n",
      "\n"
     ]
    }
   ],
   "source": [
    "print(classification_report(y_test, y_pred_rfc_nearmiss))"
   ]
  },
  {
   "cell_type": "markdown",
   "metadata": {},
   "source": [
    "## XGBoost Classifier"
   ]
  },
  {
   "cell_type": "code",
   "execution_count": 66,
   "metadata": {
    "ExecuteTime": {
     "end_time": "2020-06-14T14:52:36.562832Z",
     "start_time": "2020-06-14T14:52:35.108002Z"
    }
   },
   "outputs": [
    {
     "data": {
      "text/plain": [
       "Pipeline(memory=None,\n",
       "         steps=[('preprocessor',\n",
       "                 ColumnTransformer(n_jobs=None, remainder='drop',\n",
       "                                   sparse_threshold=0.3,\n",
       "                                   transformer_weights=None,\n",
       "                                   transformers=[('num',\n",
       "                                                  Pipeline(memory=None,\n",
       "                                                           steps=[('scaler',\n",
       "                                                                   RobustScaler(copy=True,\n",
       "                                                                                quantile_range=(25.0,\n",
       "                                                                                                75.0),\n",
       "                                                                                with_centering=True,\n",
       "                                                                                with_scaling=True))],\n",
       "                                                           verbose=False),\n",
       "                                                  ['emp.var.rate', 'euribor3m',\n",
       "                                                   'nr.employed',\n",
       "                                                   'cons....\n",
       "                               interaction_constraints=None,\n",
       "                               learning_rate=0.300000012, max_delta_step=0,\n",
       "                               max_depth=6, min_child_weight=1, missing=nan,\n",
       "                               monotone_constraints=None, n_estimators=100,\n",
       "                               n_jobs=0, num_parallel_tree=1,\n",
       "                               objective='binary:logistic', random_state=101,\n",
       "                               reg_alpha=0, reg_lambda=1, scale_pos_weight=1,\n",
       "                               subsample=1, tree_method=None,\n",
       "                               validate_parameters=False, verbosity=None))],\n",
       "         verbose=False)"
      ]
     },
     "execution_count": 66,
     "metadata": {},
     "output_type": "execute_result"
    }
   ],
   "source": [
    "xgb_nearmiss.fit(X_train, y_train)"
   ]
  },
  {
   "cell_type": "code",
   "execution_count": 67,
   "metadata": {
    "ExecuteTime": {
     "end_time": "2020-06-14T14:52:36.701699Z",
     "start_time": "2020-06-14T14:52:36.568608Z"
    }
   },
   "outputs": [],
   "source": [
    "y_pred_xgb_nearmiss = xgb_nearmiss.predict(X_test)\n",
    "\n",
    "evaluationMetrics(y_test, y_pred_xgb_nearmiss)"
   ]
  },
  {
   "cell_type": "code",
   "execution_count": 68,
   "metadata": {
    "ExecuteTime": {
     "end_time": "2020-06-14T14:52:36.739516Z",
     "start_time": "2020-06-14T14:52:36.705929Z"
    }
   },
   "outputs": [
    {
     "data": {
      "text/plain": [
       "array([[2068, 5211],\n",
       "       [ 128,  831]])"
      ]
     },
     "execution_count": 68,
     "metadata": {},
     "output_type": "execute_result"
    }
   ],
   "source": [
    "confusion_matrix(y_test, y_pred_xgb_nearmiss)"
   ]
  },
  {
   "cell_type": "code",
   "execution_count": 69,
   "metadata": {
    "ExecuteTime": {
     "end_time": "2020-06-14T14:52:36.837413Z",
     "start_time": "2020-06-14T14:52:36.743601Z"
    }
   },
   "outputs": [
    {
     "name": "stdout",
     "output_type": "stream",
     "text": [
      "              precision    recall  f1-score   support\n",
      "\n",
      "           0       0.94      0.28      0.44      7279\n",
      "           1       0.14      0.87      0.24       959\n",
      "\n",
      "    accuracy                           0.35      8238\n",
      "   macro avg       0.54      0.58      0.34      8238\n",
      "weighted avg       0.85      0.35      0.41      8238\n",
      "\n"
     ]
    }
   ],
   "source": [
    "print(classification_report(y_test, y_pred_xgb_nearmiss))"
   ]
  },
  {
   "cell_type": "markdown",
   "metadata": {},
   "source": [
    "## Evaluation\n",
    "\n",
    "### Evaluation Metrics"
   ]
  },
  {
   "cell_type": "code",
   "execution_count": 70,
   "metadata": {
    "ExecuteTime": {
     "end_time": "2020-06-14T14:52:37.012470Z",
     "start_time": "2020-06-14T14:52:36.844270Z"
    }
   },
   "outputs": [],
   "source": [
    "metricDefault_nearmiss['Macro F1-Score'] = f1\n",
    "metricDefault_nearmiss['Macro Recall'] = recall\n",
    "metricDefault_nearmiss['Macro Precision'] = prec\n",
    "metricDefault_nearmiss['MCC'] = matthews"
   ]
  },
  {
   "cell_type": "code",
   "execution_count": 71,
   "metadata": {
    "ExecuteTime": {
     "end_time": "2020-06-14T14:52:37.174898Z",
     "start_time": "2020-06-14T14:52:37.017621Z"
    },
    "scrolled": false
   },
   "outputs": [
    {
     "data": {
      "text/html": [
       "<div>\n",
       "<style scoped>\n",
       "    .dataframe tbody tr th:only-of-type {\n",
       "        vertical-align: middle;\n",
       "    }\n",
       "\n",
       "    .dataframe tbody tr th {\n",
       "        vertical-align: top;\n",
       "    }\n",
       "\n",
       "    .dataframe thead th {\n",
       "        text-align: right;\n",
       "    }\n",
       "</style>\n",
       "<table border=\"1\" class=\"dataframe\">\n",
       "  <thead>\n",
       "    <tr style=\"text-align: right;\">\n",
       "      <th></th>\n",
       "      <th>Macro F1-Score</th>\n",
       "      <th>Macro Recall</th>\n",
       "      <th>Macro Precision</th>\n",
       "      <th>MCC</th>\n",
       "    </tr>\n",
       "  </thead>\n",
       "  <tbody>\n",
       "    <tr>\n",
       "      <th>Logistic Regression (with Nearmiss)</th>\n",
       "      <td>0.616323</td>\n",
       "      <td>0.698616</td>\n",
       "      <td>0.605891</td>\n",
       "      <td>0.290046</td>\n",
       "    </tr>\n",
       "    <tr>\n",
       "      <th>Random Forest Classifier (with Nearmiss)</th>\n",
       "      <td>0.262003</td>\n",
       "      <td>0.536655</td>\n",
       "      <td>0.526326</td>\n",
       "      <td>0.062128</td>\n",
       "    </tr>\n",
       "    <tr>\n",
       "      <th>XGBoost Classifier (with NearMiss)</th>\n",
       "      <td>0.336956</td>\n",
       "      <td>0.575316</td>\n",
       "      <td>0.539625</td>\n",
       "      <td>0.109259</td>\n",
       "    </tr>\n",
       "  </tbody>\n",
       "</table>\n",
       "</div>"
      ],
      "text/plain": [
       "                                          Macro F1-Score  Macro Recall  \\\n",
       "Logistic Regression (with Nearmiss)             0.616323      0.698616   \n",
       "Random Forest Classifier (with Nearmiss)        0.262003      0.536655   \n",
       "XGBoost Classifier (with NearMiss)              0.336956      0.575316   \n",
       "\n",
       "                                          Macro Precision       MCC  \n",
       "Logistic Regression (with Nearmiss)              0.605891  0.290046  \n",
       "Random Forest Classifier (with Nearmiss)         0.526326  0.062128  \n",
       "XGBoost Classifier (with NearMiss)               0.539625  0.109259  "
      ]
     },
     "execution_count": 71,
     "metadata": {},
     "output_type": "execute_result"
    }
   ],
   "source": [
    "metricDefault_nearmiss"
   ]
  },
  {
   "cell_type": "markdown",
   "metadata": {},
   "source": [
    "<p style=\"font-family:'Courier New'\">Logistic Regression menjadi model terbaik saat menggunakan nearmiss. "
   ]
  },
  {
   "cell_type": "markdown",
   "metadata": {},
   "source": [
    "### Learning Curves"
   ]
  },
  {
   "cell_type": "code",
   "execution_count": 72,
   "metadata": {
    "ExecuteTime": {
     "end_time": "2020-06-14T14:52:48.787648Z",
     "start_time": "2020-06-14T14:52:37.190371Z"
    }
   },
   "outputs": [
    {
     "data": {
      "image/png": "[encoded data removed]",
      "text/plain": [
       "<Figure size 576x396 with 1 Axes>"
      ]
     },
     "metadata": {},
     "output_type": "display_data"
    },
    {
     "data": {
      "text/plain": [
       "<matplotlib.axes._subplots.AxesSubplot at 0x7fc546c71410>"
      ]
     },
     "execution_count": 72,
     "metadata": {},
     "output_type": "execute_result"
    }
   ],
   "source": [
    "sizes = np.linspace(0.3, 1, 10)\n",
    "\n",
    "visualizer = LearningCurve(\n",
    "    logreg_nearmiss, scoring = 'f1_macro', train_size = sizes, random_state = 101,  cv = 5\n",
    ")\n",
    "\n",
    "visualizer.fit(X_train, y_train)\n",
    "visualizer.show()"
   ]
  },
  {
   "cell_type": "code",
   "execution_count": 73,
   "metadata": {
    "ExecuteTime": {
     "end_time": "2020-06-14T14:53:23.050048Z",
     "start_time": "2020-06-14T14:52:48.799048Z"
    },
    "scrolled": true
   },
   "outputs": [
    {
     "data": {
      "image/png": "[encoded data removed]",
      "text/plain": [
       "<Figure size 576x396 with 1 Axes>"
      ]
     },
     "metadata": {},
     "output_type": "display_data"
    },
    {
     "data": {
      "text/plain": [
       "<matplotlib.axes._subplots.AxesSubplot at 0x7fc546a5d690>"
      ]
     },
     "execution_count": 73,
     "metadata": {},
     "output_type": "execute_result"
    }
   ],
   "source": [
    "sizes = np.linspace(0.3, 1, 10)\n",
    "\n",
    "visualizer = LearningCurve(\n",
    "    rfc_nearmiss, scoring = 'f1_macro', train_size = sizes, random_state = 101, cv = 5\n",
    ")\n",
    "\n",
    "visualizer.fit(X_train, y_train)\n",
    "visualizer.show()"
   ]
  },
  {
   "cell_type": "markdown",
   "metadata": {},
   "source": [
    "><p style=\"font-family:'Courier New'\">Random Forest mengalami underfitting, score condong ingin turun ke bawah."
   ]
  },
  {
   "cell_type": "code",
   "execution_count": 74,
   "metadata": {
    "ExecuteTime": {
     "end_time": "2020-06-14T14:53:41.417396Z",
     "start_time": "2020-06-14T14:53:23.055144Z"
    },
    "scrolled": true
   },
   "outputs": [
    {
     "data": {
      "image/png": "[encoded data removed]",
      "text/plain": [
       "<Figure size 576x396 with 1 Axes>"
      ]
     },
     "metadata": {},
     "output_type": "display_data"
    },
    {
     "data": {
      "text/plain": [
       "<matplotlib.axes._subplots.AxesSubplot at 0x7fc546a7f750>"
      ]
     },
     "execution_count": 74,
     "metadata": {},
     "output_type": "execute_result"
    }
   ],
   "source": [
    "sizes = np.linspace(0.3, 1, 10)\n",
    "\n",
    "visualizer = LearningCurve(\n",
    "    xgb_nearmiss, scoring = 'f1_macro', train_size = sizes, random_state = 101, cv = 5\n",
    ")\n",
    "\n",
    "visualizer.fit(X_train, y_train)\n",
    "visualizer.show()"
   ]
  },
  {
   "cell_type": "markdown",
   "metadata": {},
   "source": [
    "> <p style=\"font-family:'Courier New'\">XGBoost juga mengalami underfitting, mengingat score-score sebelumnya berada di kisaran 0.6an."
   ]
  },
  {
   "cell_type": "markdown",
   "metadata": {},
   "source": [
    "# Conclusion"
   ]
  },
  {
   "cell_type": "code",
   "execution_count": 75,
   "metadata": {
    "ExecuteTime": {
     "end_time": "2020-06-14T14:53:41.452251Z",
     "start_time": "2020-06-14T14:53:41.423272Z"
    }
   },
   "outputs": [
    {
     "name": "stdout",
     "output_type": "stream",
     "text": [
      "NearMiss\n"
     ]
    },
    {
     "data": {
      "text/html": [
       "<div>\n",
       "<style scoped>\n",
       "    .dataframe tbody tr th:only-of-type {\n",
       "        vertical-align: middle;\n",
       "    }\n",
       "\n",
       "    .dataframe tbody tr th {\n",
       "        vertical-align: top;\n",
       "    }\n",
       "\n",
       "    .dataframe thead th {\n",
       "        text-align: right;\n",
       "    }\n",
       "</style>\n",
       "<table border=\"1\" class=\"dataframe\">\n",
       "  <thead>\n",
       "    <tr style=\"text-align: right;\">\n",
       "      <th></th>\n",
       "      <th>Macro F1-Score</th>\n",
       "      <th>Macro Recall</th>\n",
       "      <th>Macro Precision</th>\n",
       "      <th>MCC</th>\n",
       "    </tr>\n",
       "  </thead>\n",
       "  <tbody>\n",
       "    <tr>\n",
       "      <th>Logistic Regression (with Nearmiss)</th>\n",
       "      <td>0.616323</td>\n",
       "      <td>0.698616</td>\n",
       "      <td>0.605891</td>\n",
       "      <td>0.290046</td>\n",
       "    </tr>\n",
       "    <tr>\n",
       "      <th>Random Forest Classifier (with Nearmiss)</th>\n",
       "      <td>0.262003</td>\n",
       "      <td>0.536655</td>\n",
       "      <td>0.526326</td>\n",
       "      <td>0.062128</td>\n",
       "    </tr>\n",
       "    <tr>\n",
       "      <th>XGBoost Classifier (with NearMiss)</th>\n",
       "      <td>0.336956</td>\n",
       "      <td>0.575316</td>\n",
       "      <td>0.539625</td>\n",
       "      <td>0.109259</td>\n",
       "    </tr>\n",
       "  </tbody>\n",
       "</table>\n",
       "</div>"
      ],
      "text/plain": [
       "                                          Macro F1-Score  Macro Recall  \\\n",
       "Logistic Regression (with Nearmiss)             0.616323      0.698616   \n",
       "Random Forest Classifier (with Nearmiss)        0.262003      0.536655   \n",
       "XGBoost Classifier (with NearMiss)              0.336956      0.575316   \n",
       "\n",
       "                                          Macro Precision       MCC  \n",
       "Logistic Regression (with Nearmiss)              0.605891  0.290046  \n",
       "Random Forest Classifier (with Nearmiss)         0.526326  0.062128  \n",
       "XGBoost Classifier (with NearMiss)               0.539625  0.109259  "
      ]
     },
     "execution_count": 75,
     "metadata": {},
     "output_type": "execute_result"
    }
   ],
   "source": [
    "print('NearMiss')\n",
    "metricDefault_nearmiss"
   ]
  },
  {
   "cell_type": "code",
   "execution_count": 76,
   "metadata": {
    "ExecuteTime": {
     "end_time": "2020-06-14T14:53:41.569272Z",
     "start_time": "2020-06-14T14:53:41.456931Z"
    }
   },
   "outputs": [
    {
     "name": "stdout",
     "output_type": "stream",
     "text": [
      "SMOTE\n"
     ]
    },
    {
     "data": {
      "text/html": [
       "<div>\n",
       "<style scoped>\n",
       "    .dataframe tbody tr th:only-of-type {\n",
       "        vertical-align: middle;\n",
       "    }\n",
       "\n",
       "    .dataframe tbody tr th {\n",
       "        vertical-align: top;\n",
       "    }\n",
       "\n",
       "    .dataframe thead th {\n",
       "        text-align: right;\n",
       "    }\n",
       "</style>\n",
       "<table border=\"1\" class=\"dataframe\">\n",
       "  <thead>\n",
       "    <tr style=\"text-align: right;\">\n",
       "      <th></th>\n",
       "      <th>Macro F1-Score</th>\n",
       "      <th>Macro Recall</th>\n",
       "      <th>Macro Precision</th>\n",
       "      <th>MCC</th>\n",
       "    </tr>\n",
       "  </thead>\n",
       "  <tbody>\n",
       "    <tr>\n",
       "      <th>Logistic Regression (with SMOTE)</th>\n",
       "      <td>0.683400</td>\n",
       "      <td>0.738456</td>\n",
       "      <td>0.658925</td>\n",
       "      <td>0.389341</td>\n",
       "    </tr>\n",
       "    <tr>\n",
       "      <th>Random Forest Classifier (with SMOTE)</th>\n",
       "      <td>0.653188</td>\n",
       "      <td>0.656687</td>\n",
       "      <td>0.649952</td>\n",
       "      <td>0.306565</td>\n",
       "    </tr>\n",
       "    <tr>\n",
       "      <th>XGBoost Classifier (with SMOTE)</th>\n",
       "      <td>0.697174</td>\n",
       "      <td>0.711363</td>\n",
       "      <td>0.685772</td>\n",
       "      <td>0.396309</td>\n",
       "    </tr>\n",
       "  </tbody>\n",
       "</table>\n",
       "</div>"
      ],
      "text/plain": [
       "                                       Macro F1-Score  Macro Recall  \\\n",
       "Logistic Regression (with SMOTE)             0.683400      0.738456   \n",
       "Random Forest Classifier (with SMOTE)        0.653188      0.656687   \n",
       "XGBoost Classifier (with SMOTE)              0.697174      0.711363   \n",
       "\n",
       "                                       Macro Precision       MCC  \n",
       "Logistic Regression (with SMOTE)              0.658925  0.389341  \n",
       "Random Forest Classifier (with SMOTE)         0.649952  0.306565  \n",
       "XGBoost Classifier (with SMOTE)               0.685772  0.396309  "
      ]
     },
     "execution_count": 76,
     "metadata": {},
     "output_type": "execute_result"
    }
   ],
   "source": [
    "print('SMOTE')\n",
    "metricDefault_smote"
   ]
  },
  {
   "cell_type": "code",
   "execution_count": 77,
   "metadata": {
    "ExecuteTime": {
     "end_time": "2020-06-14T14:53:41.667621Z",
     "start_time": "2020-06-14T14:53:41.573403Z"
    }
   },
   "outputs": [
    {
     "name": "stdout",
     "output_type": "stream",
     "text": [
      "Original\n"
     ]
    },
    {
     "data": {
      "text/html": [
       "<div>\n",
       "<style scoped>\n",
       "    .dataframe tbody tr th:only-of-type {\n",
       "        vertical-align: middle;\n",
       "    }\n",
       "\n",
       "    .dataframe tbody tr th {\n",
       "        vertical-align: top;\n",
       "    }\n",
       "\n",
       "    .dataframe thead th {\n",
       "        text-align: right;\n",
       "    }\n",
       "</style>\n",
       "<table border=\"1\" class=\"dataframe\">\n",
       "  <thead>\n",
       "    <tr style=\"text-align: right;\">\n",
       "      <th></th>\n",
       "      <th>Macro F1-Score</th>\n",
       "      <th>Macro Recall</th>\n",
       "      <th>Macro Precision</th>\n",
       "      <th>MCC</th>\n",
       "    </tr>\n",
       "  </thead>\n",
       "  <tbody>\n",
       "    <tr>\n",
       "      <th>Logistic Regression</th>\n",
       "      <td>0.643394</td>\n",
       "      <td>0.607422</td>\n",
       "      <td>0.790722</td>\n",
       "      <td>0.353439</td>\n",
       "    </tr>\n",
       "    <tr>\n",
       "      <th>Random Forest Classifier</th>\n",
       "      <td>0.651605</td>\n",
       "      <td>0.625915</td>\n",
       "      <td>0.706132</td>\n",
       "      <td>0.322212</td>\n",
       "    </tr>\n",
       "    <tr>\n",
       "      <th>XGBoost Classifier</th>\n",
       "      <td>0.656195</td>\n",
       "      <td>0.622179</td>\n",
       "      <td>0.754586</td>\n",
       "      <td>0.352732</td>\n",
       "    </tr>\n",
       "  </tbody>\n",
       "</table>\n",
       "</div>"
      ],
      "text/plain": [
       "                          Macro F1-Score  Macro Recall  Macro Precision  \\\n",
       "Logistic Regression             0.643394      0.607422         0.790722   \n",
       "Random Forest Classifier        0.651605      0.625915         0.706132   \n",
       "XGBoost Classifier              0.656195      0.622179         0.754586   \n",
       "\n",
       "                               MCC  \n",
       "Logistic Regression       0.353439  \n",
       "Random Forest Classifier  0.322212  \n",
       "XGBoost Classifier        0.352732  "
      ]
     },
     "execution_count": 77,
     "metadata": {},
     "output_type": "execute_result"
    }
   ],
   "source": [
    "print('Original')\n",
    "metricDefault_Original"
   ]
  },
  {
   "cell_type": "markdown",
   "metadata": {},
   "source": [
    "> <p style=\"font-family:'Courier New'\">Secara keseluruhan, boleh dibilang bahwa dataset undersampling, kebanyakan model mengalami underfitting. Namun tidak dengan SMOTE dan original dataset. Itu kenapa, untuk analisa selanjutnya saya tidak akan menggunakan undersampling. Melainkan hanya original dataset dan SMOTE saja. \n",
    "\n",
    "> <p style=\"font-family:'Courier New'\">Untuk evaluasi model, secara keseluruhan paling tinggi di model XGBoost dengan SMOTE. Tapi masalahnya, model kita hampir semuanya mengalami overfitting. Yang dimana artinya, model tidak stabil dan tidak general. Itu kenapa menyelesaikan overfitting akan menjadi fokus di notebook berikutnya, dimana saya akan melakukan tuning pada setiap model.  "
   ]
  }
 ],
 "metadata": {
  "kernelspec": {
   "display_name": "Python 3",
   "language": "python",
   "name": "python3"
  },
  "language_info": {
   "codemirror_mode": {
    "name": "ipython",
    "version": 3
   },
   "file_extension": ".py",
   "mimetype": "text/x-python",
   "name": "python",
   "nbconvert_exporter": "python",
   "pygments_lexer": "ipython3",
   "version": "3.7.7"
  },
  "toc": {
   "base_numbering": 1,
   "nav_menu": {},
   "number_sections": true,
   "sideBar": true,
   "skip_h1_title": false,
   "title_cell": "Table of Contents",
   "title_sidebar": "Contents",
   "toc_cell": false,
   "toc_position": {},
   "toc_section_display": true,
   "toc_window_display": true
  }
 },
 "nbformat": 4,
 "nbformat_minor": 2
}
