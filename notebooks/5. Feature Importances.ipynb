{
 "cells": [
  {
   "cell_type": "markdown",
   "metadata": {},
   "source": [
    "<p style=\"font-size:40px\">5. Feature Importances</p> <br>"
   ]
  },
  {
   "cell_type": "code",
   "execution_count": 5,
   "metadata": {
    "ExecuteTime": {
     "end_time": "2020-06-15T10:13:05.248879Z",
     "start_time": "2020-06-15T10:13:02.265234Z"
    }
   },
   "outputs": [],
   "source": [
    "import pandas as pd\n",
    "import numpy as np\n",
    "import matplotlib.pyplot as plt\n",
    "import seaborn as sns\n",
    "\n",
    "from sklearn.metrics import make_scorer, plot_confusion_matrix, confusion_matrix, classification_report, f1_score, precision_score, recall_score, matthews_corrcoef, roc_auc_score\n",
    "\n",
    "from sklearn.model_selection import train_test_split, RandomizedSearchCV\n",
    "from sklearn.preprocessing import RobustScaler, binarize\n",
    "from imblearn.over_sampling import SMOTE\n",
    "from sklearn.metrics import precision_recall_curve\n",
    "from sklearn.preprocessing import binarize, OneHotEncoder\n",
    "\n",
    "from sklearn.compose import ColumnTransformer\n",
    "from imblearn.pipeline import Pipeline\n",
    "\n",
    "from sklearn.linear_model import LogisticRegression\n",
    "from sklearn.ensemble import RandomForestClassifier\n",
    "from xgboost import XGBClassifier\n",
    "\n",
    "import pickle\n",
    "import warnings\n",
    "warnings.filterwarnings(\"ignore\")"
   ]
  },
  {
   "cell_type": "code",
   "execution_count": 4,
   "metadata": {
    "ExecuteTime": {
     "end_time": "2020-06-15T10:12:54.350096Z",
     "start_time": "2020-06-15T10:12:54.113146Z"
    }
   },
   "outputs": [],
   "source": [
    "bank = pd.read_csv('bank_clean.csv')\n",
    "\n",
    "X = bank.drop('y', axis = 1)\n",
    "y = bank['y'].map({'yes' : 1, 'no' : 0})\n",
    "\n",
    "X_train, X_test, y_train, y_test = train_test_split(X,y, test_size = 0.2, random_state = 101)"
   ]
  },
  {
   "cell_type": "code",
   "execution_count": 6,
   "metadata": {
    "ExecuteTime": {
     "end_time": "2020-06-15T10:13:31.753270Z",
     "start_time": "2020-06-15T10:13:31.740649Z"
    }
   },
   "outputs": [],
   "source": [
    "numeric_transformer = Pipeline(steps=[\n",
    "    ('scaler', RobustScaler())])\n",
    "\n",
    "categorical_transformer = Pipeline(steps=[\n",
    "    ('onehot', OneHotEncoder(handle_unknown='ignore'))])\n",
    "\n",
    "preprocessor = ColumnTransformer(\n",
    "    transformers=[\n",
    "        ('num', numeric_transformer, ['emp.var.rate','euribor3m','nr.employed','cons.price.idx','cons.conf.idx','age']),\n",
    "        ('cat', categorical_transformer, ['month','pdays'])])"
   ]
  },
  {
   "cell_type": "code",
   "execution_count": 7,
   "metadata": {
    "ExecuteTime": {
     "end_time": "2020-06-15T10:13:36.411179Z",
     "start_time": "2020-06-15T10:13:36.397836Z"
    }
   },
   "outputs": [],
   "source": [
    "sm = SMOTE(random_state=101, sampling_strategy=1.0)"
   ]
  },
  {
   "cell_type": "code",
   "execution_count": 8,
   "metadata": {
    "ExecuteTime": {
     "end_time": "2020-06-15T10:14:43.137138Z",
     "start_time": "2020-06-15T10:13:43.710958Z"
    }
   },
   "outputs": [
    {
     "data": {
      "text/plain": [
       "Pipeline(memory=None,\n",
       "         steps=[('preprocessor',\n",
       "                 ColumnTransformer(n_jobs=None, remainder='drop',\n",
       "                                   sparse_threshold=0.3,\n",
       "                                   transformer_weights=None,\n",
       "                                   transformers=[('num',\n",
       "                                                  Pipeline(memory=None,\n",
       "                                                           steps=[('scaler',\n",
       "                                                                   RobustScaler(copy=True,\n",
       "                                                                                quantile_range=(25.0,\n",
       "                                                                                                75.0),\n",
       "                                                                                with_centering=True,\n",
       "                                                                                with_scaling=True))],\n",
       "                                                           verbose=False),\n",
       "                                                  ['emp.var.rate', 'euribor3m',\n",
       "                                                   'nr.employed',\n",
       "                                                   'cons....\n",
       "                 RandomForestClassifier(bootstrap=True, ccp_alpha=0.0,\n",
       "                                        class_weight=None, criterion='gini',\n",
       "                                        max_depth=8, max_features=0.8,\n",
       "                                        max_leaf_nodes=None, max_samples=None,\n",
       "                                        min_impurity_decrease=0.0,\n",
       "                                        min_impurity_split=None,\n",
       "                                        min_samples_leaf=35,\n",
       "                                        min_samples_split=2,\n",
       "                                        min_weight_fraction_leaf=0.0,\n",
       "                                        n_estimators=300, n_jobs=None,\n",
       "                                        oob_score=False, random_state=101,\n",
       "                                        verbose=0, warm_start=False))],\n",
       "         verbose=False)"
      ]
     },
     "execution_count": 8,
     "metadata": {},
     "output_type": "execute_result"
    }
   ],
   "source": [
    "rfc_tuned_smote = Pipeline(steps=[('preprocessor', preprocessor), ('sm', sm),\n",
    "                      ('rfc', RandomForestClassifier(random_state = 101, n_estimators = 300,\n",
    "                                                   max_features = 0.8, min_samples_leaf = 35, \n",
    "                                                     max_depth = 8))])\n",
    "\n",
    "rfc_tuned_smote.fit(X_train, y_train)"
   ]
  },
  {
   "cell_type": "code",
   "execution_count": 17,
   "metadata": {
    "ExecuteTime": {
     "end_time": "2020-06-15T10:17:00.146449Z",
     "start_time": "2020-06-15T10:17:00.091270Z"
    }
   },
   "outputs": [
    {
     "data": {
      "text/plain": [
       "Index(['emp.var.rate', 'euribor3m', 'nr.employed', 'cons.price.idx',\n",
       "       'cons.conf.idx', 'age', 'month_apr', 'month_aug', 'month_dec',\n",
       "       'month_jul', 'month_jun', 'month_mar', 'month_may', 'month_nov',\n",
       "       'month_oct', 'month_sep', 'pdays_Contacted',\n",
       "       'pdays_Never contacted before'],\n",
       "      dtype='object')"
      ]
     },
     "execution_count": 17,
     "metadata": {},
     "output_type": "execute_result"
    }
   ],
   "source": [
    "pd.get_dummies(X_train[['emp.var.rate','euribor3m','nr.employed','cons.price.idx','cons.conf.idx','age','month','pdays']]).columns"
   ]
  },
  {
   "cell_type": "code",
   "execution_count": 11,
   "metadata": {
    "ExecuteTime": {
     "end_time": "2020-06-15T10:15:01.146562Z",
     "start_time": "2020-06-15T10:15:01.044131Z"
    },
    "scrolled": true
   },
   "outputs": [
    {
     "data": {
      "text/plain": [
       "array([5.65743850e-02, 3.15365119e-01, 4.55613882e-01, 2.63787338e-02,\n",
       "       6.69754171e-02, 3.03773613e-02, 1.73503659e-03, 4.38862574e-04,\n",
       "       9.49950148e-06, 6.02674291e-04, 2.06454456e-04, 1.07238283e-03,\n",
       "       4.76674661e-03, 2.70082006e-04, 1.97722322e-02, 4.40444876e-05,\n",
       "       1.05527918e-02, 9.24429458e-03])"
      ]
     },
     "execution_count": 11,
     "metadata": {},
     "output_type": "execute_result"
    }
   ],
   "source": [
    "rfc_tuned_smote['rfc'].feature_importances_"
   ]
  },
  {
   "cell_type": "code",
   "execution_count": 35,
   "metadata": {
    "ExecuteTime": {
     "end_time": "2020-06-15T10:20:59.688491Z",
     "start_time": "2020-06-15T10:20:59.547317Z"
    }
   },
   "outputs": [],
   "source": [
    "feat = pd.DataFrame({'feature_impotances' : rfc_tuned_smote['rfc'].feature_importances_}, index = pd.get_dummies(X_train[['emp.var.rate','euribor3m','nr.employed','cons.price.idx','cons.conf.idx','age',\n",
    "                                                                                                 'month','pdays']]).columns).sort_values(ascending = False, by = 'feature_impotances')"
   ]
  },
  {
   "cell_type": "code",
   "execution_count": 36,
   "metadata": {
    "ExecuteTime": {
     "end_time": "2020-06-15T10:21:00.764660Z",
     "start_time": "2020-06-15T10:21:00.039505Z"
    },
    "scrolled": true
   },
   "outputs": [
    {
     "data": {
      "text/plain": [
       "<matplotlib.axes._subplots.AxesSubplot at 0x7fedf28c87d0>"
      ]
     },
     "execution_count": 36,
     "metadata": {},
     "output_type": "execute_result"
    },
    {
     "data": {
      "image/png": "[encoded data removed]",
      "text/plain": [
       "<Figure size 1080x720 with 1 Axes>"
      ]
     },
     "metadata": {
      "needs_background": "light"
     },
     "output_type": "display_data"
    }
   ],
   "source": [
    "plt.figure(figsize = (15, 10))\n",
    "sns.barplot(x = feat['feature_impotances'], y = feat.index)"
   ]
  },
  {
   "cell_type": "markdown",
   "metadata": {},
   "source": [
    "> Dari visualisasi diatas, dapat dilihat bahwa fitur nr.employed adalah fitur yang paling membantu model random forest untuk membedakan nasabah yang akan melakukan deposito atau tidak. Dan empat teratas adalah fitur-fitur socio-economics, yang dimana sebetulnya tidak mengherankan, mengingat fitur-fitur itu saling berkorelasi. Kalau mengingat di notebook ML_Classification_Part_1 telah ditunjukkannya korelasi tiap fitur. Dan bisa dilihat bahwa fitur nr.employed adalah fitur paling berkorelasi ke fitur target. Mengingat nr.employed adalah jumlah karyawan dari bank tersebut. Artinya bank mengontrol betul, nasabahnya akan melakukan deposito atau tidak. Seharusnya dengan hasil di atas, bank lebih dapat membuat strategi kedepannya. "
   ]
  }
 ],
 "metadata": {
  "kernelspec": {
   "display_name": "Python 3",
   "language": "python",
   "name": "python3"
  },
  "language_info": {
   "codemirror_mode": {
    "name": "ipython",
    "version": 3
   },
   "file_extension": ".py",
   "mimetype": "text/x-python",
   "name": "python",
   "nbconvert_exporter": "python",
   "pygments_lexer": "ipython3",
   "version": "3.7.7"
  },
  "toc": {
   "base_numbering": 1,
   "nav_menu": {},
   "number_sections": true,
   "sideBar": true,
   "skip_h1_title": false,
   "title_cell": "Table of Contents",
   "title_sidebar": "Contents",
   "toc_cell": false,
   "toc_position": {},
   "toc_section_display": true,
   "toc_window_display": false
  }
 },
 "nbformat": 4,
 "nbformat_minor": 2
}
