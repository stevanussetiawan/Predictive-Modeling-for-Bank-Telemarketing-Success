{
 "cells": [
  {
   "cell_type": "markdown",
   "metadata": {},
   "source": [
    "<p style=\"font-size:40px\">6. Model Deployment</p> <br>"
   ]
  },
  {
   "cell_type": "code",
   "execution_count": 1,
   "metadata": {
    "ExecuteTime": {
     "end_time": "2020-06-15T09:12:41.694538Z",
     "start_time": "2020-06-15T09:12:31.687229Z"
    }
   },
   "outputs": [],
   "source": [
    "import pandas as pd\n",
    "import numpy as np\n",
    "import matplotlib.pyplot as plt\n",
    "import seaborn as sns\n",
    "\n",
    "from sklearn.metrics import make_scorer, plot_confusion_matrix, confusion_matrix, classification_report, f1_score, precision_score, recall_score, matthews_corrcoef, roc_auc_score\n",
    "\n",
    "from sklearn.model_selection import train_test_split, RandomizedSearchCV\n",
    "from sklearn.preprocessing import RobustScaler, binarize\n",
    "from imblearn.over_sampling import SMOTE\n",
    "from sklearn.metrics import precision_recall_curve\n",
    "from sklearn.preprocessing import binarize, OneHotEncoder\n",
    "\n",
    "from sklearn.compose import ColumnTransformer\n",
    "from imblearn.pipeline import Pipeline\n",
    "\n",
    "from sklearn.linear_model import LogisticRegression\n",
    "from sklearn.ensemble import RandomForestClassifier\n",
    "from xgboost import XGBClassifier\n",
    "\n",
    "import pickle\n",
    "import warnings\n",
    "warnings.filterwarnings(\"ignore\")"
   ]
  },
  {
   "cell_type": "code",
   "execution_count": 2,
   "metadata": {
    "ExecuteTime": {
     "end_time": "2020-06-15T09:12:42.150795Z",
     "start_time": "2020-06-15T09:12:41.700707Z"
    }
   },
   "outputs": [],
   "source": [
    "bank = pd.read_csv('bank_clean.csv')\n",
    "\n",
    "X = bank.drop('y', axis = 1)\n",
    "y = bank['y'].map({'yes' : 1, 'no' : 0})\n",
    "\n",
    "X_train, X_test, y_train, y_test = train_test_split(X,y, test_size = 0.2, random_state = 101)"
   ]
  },
  {
   "cell_type": "code",
   "execution_count": 3,
   "metadata": {
    "ExecuteTime": {
     "end_time": "2020-06-15T00:16:53.524360Z",
     "start_time": "2020-06-15T00:16:53.511480Z"
    }
   },
   "outputs": [],
   "source": [
    "numeric_transformer = Pipeline(steps=[\n",
    "    ('scaler', RobustScaler())])\n",
    "\n",
    "categorical_transformer = Pipeline(steps=[\n",
    "    ('onehot', OneHotEncoder(handle_unknown='ignore'))])\n",
    "\n",
    "preprocessor = ColumnTransformer(\n",
    "    transformers=[\n",
    "        ('num', numeric_transformer, ['emp.var.rate','euribor3m','nr.employed','cons.price.idx','cons.conf.idx','age']),\n",
    "        ('cat', categorical_transformer, ['month','pdays'])])"
   ]
  },
  {
   "cell_type": "code",
   "execution_count": 5,
   "metadata": {
    "ExecuteTime": {
     "end_time": "2020-06-15T00:17:22.302827Z",
     "start_time": "2020-06-15T00:17:22.286907Z"
    }
   },
   "outputs": [],
   "source": [
    "sm = SMOTE(random_state=101, sampling_strategy=1.0)"
   ]
  },
  {
   "cell_type": "code",
   "execution_count": 6,
   "metadata": {
    "ExecuteTime": {
     "end_time": "2020-06-15T00:18:27.058274Z",
     "start_time": "2020-06-15T00:17:22.722413Z"
    }
   },
   "outputs": [
    {
     "data": {
      "text/plain": [
       "Pipeline(memory=None,\n",
       "         steps=[('preprocessor',\n",
       "                 ColumnTransformer(n_jobs=None, remainder='drop',\n",
       "                                   sparse_threshold=0.3,\n",
       "                                   transformer_weights=None,\n",
       "                                   transformers=[('num',\n",
       "                                                  Pipeline(memory=None,\n",
       "                                                           steps=[('scaler',\n",
       "                                                                   RobustScaler(copy=True,\n",
       "                                                                                quantile_range=(25.0,\n",
       "                                                                                                75.0),\n",
       "                                                                                with_centering=True,\n",
       "                                                                                with_scaling=True))],\n",
       "                                                           verbose=False),\n",
       "                                                  ['emp.var.rate', 'euribor3m',\n",
       "                                                   'nr.employed',\n",
       "                                                   'cons....\n",
       "                 RandomForestClassifier(bootstrap=True, ccp_alpha=0.0,\n",
       "                                        class_weight=None, criterion='gini',\n",
       "                                        max_depth=8, max_features=0.8,\n",
       "                                        max_leaf_nodes=None, max_samples=None,\n",
       "                                        min_impurity_decrease=0.0,\n",
       "                                        min_impurity_split=None,\n",
       "                                        min_samples_leaf=35,\n",
       "                                        min_samples_split=2,\n",
       "                                        min_weight_fraction_leaf=0.0,\n",
       "                                        n_estimators=300, n_jobs=None,\n",
       "                                        oob_score=False, random_state=101,\n",
       "                                        verbose=0, warm_start=False))],\n",
       "         verbose=False)"
      ]
     },
     "execution_count": 6,
     "metadata": {},
     "output_type": "execute_result"
    }
   ],
   "source": [
    "rfc_tuned_smote = Pipeline(steps=[('preprocessor', preprocessor), ('sm', sm),\n",
    "                      ('rfc', RandomForestClassifier(random_state = 101, n_estimators = 300,\n",
    "                                                   max_features = 0.8, min_samples_leaf = 35, \n",
    "                                                     max_depth = 8))])\n",
    "\n",
    "rfc_tuned_smote.fit(X_train, y_train)"
   ]
  },
  {
   "cell_type": "code",
   "execution_count": 9,
   "metadata": {
    "ExecuteTime": {
     "end_time": "2020-06-15T00:21:44.598960Z",
     "start_time": "2020-06-15T00:21:44.149048Z"
    }
   },
   "outputs": [],
   "source": [
    "y_proba_rfc_tuned = rfc_tuned_smote.predict_proba(X_test)[:,1]\n",
    "y_pred_rfc_tuned = binarize([y_proba_rfc_tuned], 0.33)[0]"
   ]
  },
  {
   "cell_type": "code",
   "execution_count": 10,
   "metadata": {
    "ExecuteTime": {
     "end_time": "2020-06-15T00:21:54.131989Z",
     "start_time": "2020-06-15T00:21:53.976216Z"
    }
   },
   "outputs": [
    {
     "data": {
      "text/plain": [
       "array([[5285, 1994],\n",
       "       [ 276,  683]])"
      ]
     },
     "execution_count": 10,
     "metadata": {},
     "output_type": "execute_result"
    }
   ],
   "source": [
    "confusion_matrix(y_test, y_pred_rfc_tuned)"
   ]
  },
  {
   "cell_type": "code",
   "execution_count": 11,
   "metadata": {
    "ExecuteTime": {
     "end_time": "2020-06-15T00:21:59.477329Z",
     "start_time": "2020-06-15T00:21:59.420859Z"
    },
    "scrolled": true
   },
   "outputs": [
    {
     "name": "stdout",
     "output_type": "stream",
     "text": [
      "              precision    recall  f1-score   support\n",
      "\n",
      "           0       0.95      0.73      0.82      7279\n",
      "           1       0.26      0.71      0.38       959\n",
      "\n",
      "    accuracy                           0.72      8238\n",
      "   macro avg       0.60      0.72      0.60      8238\n",
      "weighted avg       0.87      0.72      0.77      8238\n",
      "\n"
     ]
    }
   ],
   "source": [
    "print(classification_report(y_test, y_pred_rfc_tuned))"
   ]
  },
  {
   "cell_type": "markdown",
   "metadata": {},
   "source": [
    "# Pickle write"
   ]
  },
  {
   "cell_type": "code",
   "execution_count": 14,
   "metadata": {
    "ExecuteTime": {
     "end_time": "2020-06-15T00:24:03.585312Z",
     "start_time": "2020-06-15T00:24:03.502485Z"
    }
   },
   "outputs": [],
   "source": [
    "filename = 'randomforest.sav'\n",
    "pickle.dump(rfc_tuned_smote, open(filename, 'wb'))"
   ]
  },
  {
   "cell_type": "markdown",
   "metadata": {},
   "source": [
    "# Pickle read"
   ]
  },
  {
   "cell_type": "code",
   "execution_count": 3,
   "metadata": {
    "ExecuteTime": {
     "end_time": "2020-06-15T06:16:28.302236Z",
     "start_time": "2020-06-15T06:16:28.214578Z"
    }
   },
   "outputs": [],
   "source": [
    "loadModel = pickle.load(open('randomforest.sav', 'rb'))"
   ]
  },
  {
   "cell_type": "code",
   "execution_count": 4,
   "metadata": {
    "ExecuteTime": {
     "end_time": "2020-06-15T06:16:28.823503Z",
     "start_time": "2020-06-15T06:16:28.733133Z"
    }
   },
   "outputs": [
    {
     "data": {
      "text/plain": [
       "Pipeline(memory=None,\n",
       "         steps=[('preprocessor',\n",
       "                 ColumnTransformer(n_jobs=None, remainder='drop',\n",
       "                                   sparse_threshold=0.3,\n",
       "                                   transformer_weights=None,\n",
       "                                   transformers=[('num',\n",
       "                                                  Pipeline(memory=None,\n",
       "                                                           steps=[('scaler',\n",
       "                                                                   RobustScaler(copy=True,\n",
       "                                                                                quantile_range=(25.0,\n",
       "                                                                                                75.0),\n",
       "                                                                                with_centering=True,\n",
       "                                                                                with_scaling=True))],\n",
       "                                                           verbose=False),\n",
       "                                                  ['emp.var.rate', 'euribor3m',\n",
       "                                                   'nr.employed',\n",
       "                                                   'cons....\n",
       "                 RandomForestClassifier(bootstrap=True, ccp_alpha=0.0,\n",
       "                                        class_weight=None, criterion='gini',\n",
       "                                        max_depth=8, max_features=0.8,\n",
       "                                        max_leaf_nodes=None, max_samples=None,\n",
       "                                        min_impurity_decrease=0.0,\n",
       "                                        min_impurity_split=None,\n",
       "                                        min_samples_leaf=35,\n",
       "                                        min_samples_split=2,\n",
       "                                        min_weight_fraction_leaf=0.0,\n",
       "                                        n_estimators=300, n_jobs=None,\n",
       "                                        oob_score=False, random_state=101,\n",
       "                                        verbose=0, warm_start=False))],\n",
       "         verbose=False)"
      ]
     },
     "execution_count": 4,
     "metadata": {},
     "output_type": "execute_result"
    }
   ],
   "source": [
    "loadModel"
   ]
  },
  {
   "cell_type": "code",
   "execution_count": 5,
   "metadata": {
    "ExecuteTime": {
     "end_time": "2020-06-15T06:16:30.795461Z",
     "start_time": "2020-06-15T06:16:30.782551Z"
    }
   },
   "outputs": [],
   "source": [
    "sample = X_test.sample(1, random_state = 101)"
   ]
  },
  {
   "cell_type": "code",
   "execution_count": 6,
   "metadata": {
    "ExecuteTime": {
     "end_time": "2020-06-15T06:16:32.269403Z",
     "start_time": "2020-06-15T06:16:32.156055Z"
    }
   },
   "outputs": [
    {
     "data": {
      "text/plain": [
       "array([0.2808091])"
      ]
     },
     "execution_count": 6,
     "metadata": {},
     "output_type": "execute_result"
    }
   ],
   "source": [
    "loadModel.predict_proba(sample)[:,1]"
   ]
  },
  {
   "cell_type": "code",
   "execution_count": 7,
   "metadata": {
    "ExecuteTime": {
     "end_time": "2020-06-15T06:16:33.600673Z",
     "start_time": "2020-06-15T06:16:33.555188Z"
    }
   },
   "outputs": [
    {
     "data": {
      "text/html": [
       "<div>\n",
       "<style scoped>\n",
       "    .dataframe tbody tr th:only-of-type {\n",
       "        vertical-align: middle;\n",
       "    }\n",
       "\n",
       "    .dataframe tbody tr th {\n",
       "        vertical-align: top;\n",
       "    }\n",
       "\n",
       "    .dataframe thead th {\n",
       "        text-align: right;\n",
       "    }\n",
       "</style>\n",
       "<table border=\"1\" class=\"dataframe\">\n",
       "  <thead>\n",
       "    <tr style=\"text-align: right;\">\n",
       "      <th></th>\n",
       "      <th>age</th>\n",
       "      <th>job</th>\n",
       "      <th>marital</th>\n",
       "      <th>education</th>\n",
       "      <th>default</th>\n",
       "      <th>month</th>\n",
       "      <th>campaign</th>\n",
       "      <th>pdays</th>\n",
       "      <th>poutcome</th>\n",
       "      <th>emp.var.rate</th>\n",
       "      <th>cons.price.idx</th>\n",
       "      <th>cons.conf.idx</th>\n",
       "      <th>euribor3m</th>\n",
       "      <th>nr.employed</th>\n",
       "    </tr>\n",
       "  </thead>\n",
       "  <tbody>\n",
       "    <tr>\n",
       "      <th>29559</th>\n",
       "      <td>33</td>\n",
       "      <td>blue-collar</td>\n",
       "      <td>married</td>\n",
       "      <td>high.school</td>\n",
       "      <td>no</td>\n",
       "      <td>apr</td>\n",
       "      <td>1</td>\n",
       "      <td>Never contacted before</td>\n",
       "      <td>nonexistent</td>\n",
       "      <td>-1.8</td>\n",
       "      <td>93.075</td>\n",
       "      <td>-47.1</td>\n",
       "      <td>1.405</td>\n",
       "      <td>5099.1</td>\n",
       "    </tr>\n",
       "  </tbody>\n",
       "</table>\n",
       "</div>"
      ],
      "text/plain": [
       "       age          job  marital    education default month  campaign  \\\n",
       "29559   33  blue-collar  married  high.school      no   apr         1   \n",
       "\n",
       "                        pdays     poutcome  emp.var.rate  cons.price.idx  \\\n",
       "29559  Never contacted before  nonexistent          -1.8          93.075   \n",
       "\n",
       "       cons.conf.idx  euribor3m  nr.employed  \n",
       "29559          -47.1      1.405       5099.1  "
      ]
     },
     "execution_count": 7,
     "metadata": {},
     "output_type": "execute_result"
    }
   ],
   "source": [
    "sample"
   ]
  },
  {
   "cell_type": "code",
   "execution_count": 8,
   "metadata": {
    "ExecuteTime": {
     "end_time": "2020-06-15T06:16:34.383532Z",
     "start_time": "2020-06-15T06:16:34.338641Z"
    }
   },
   "outputs": [
    {
     "data": {
      "text/html": [
       "<div>\n",
       "<style scoped>\n",
       "    .dataframe tbody tr th:only-of-type {\n",
       "        vertical-align: middle;\n",
       "    }\n",
       "\n",
       "    .dataframe tbody tr th {\n",
       "        vertical-align: top;\n",
       "    }\n",
       "\n",
       "    .dataframe thead th {\n",
       "        text-align: right;\n",
       "    }\n",
       "</style>\n",
       "<table border=\"1\" class=\"dataframe\">\n",
       "  <thead>\n",
       "    <tr style=\"text-align: right;\">\n",
       "      <th></th>\n",
       "      <th>age</th>\n",
       "      <th>job</th>\n",
       "      <th>marital</th>\n",
       "      <th>education</th>\n",
       "      <th>default</th>\n",
       "      <th>month</th>\n",
       "      <th>campaign</th>\n",
       "      <th>pdays</th>\n",
       "      <th>poutcome</th>\n",
       "      <th>emp.var.rate</th>\n",
       "      <th>cons.price.idx</th>\n",
       "      <th>cons.conf.idx</th>\n",
       "      <th>euribor3m</th>\n",
       "      <th>nr.employed</th>\n",
       "    </tr>\n",
       "  </thead>\n",
       "  <tbody>\n",
       "    <tr>\n",
       "      <th>3669</th>\n",
       "      <td>32</td>\n",
       "      <td>services</td>\n",
       "      <td>married</td>\n",
       "      <td>high.school</td>\n",
       "      <td>no</td>\n",
       "      <td>may</td>\n",
       "      <td>1</td>\n",
       "      <td>Never contacted before</td>\n",
       "      <td>nonexistent</td>\n",
       "      <td>1.1</td>\n",
       "      <td>93.994</td>\n",
       "      <td>-36.4</td>\n",
       "      <td>4.859</td>\n",
       "      <td>5191.0</td>\n",
       "    </tr>\n",
       "  </tbody>\n",
       "</table>\n",
       "</div>"
      ],
      "text/plain": [
       "      age       job  marital    education default month  campaign  \\\n",
       "3669   32  services  married  high.school      no   may         1   \n",
       "\n",
       "                       pdays     poutcome  emp.var.rate  cons.price.idx  \\\n",
       "3669  Never contacted before  nonexistent           1.1          93.994   \n",
       "\n",
       "      cons.conf.idx  euribor3m  nr.employed  \n",
       "3669          -36.4      4.859       5191.0  "
      ]
     },
     "execution_count": 8,
     "metadata": {},
     "output_type": "execute_result"
    }
   ],
   "source": [
    "X_test.head(1)"
   ]
  },
  {
   "cell_type": "code",
   "execution_count": 9,
   "metadata": {
    "ExecuteTime": {
     "end_time": "2020-06-15T06:16:36.557571Z",
     "start_time": "2020-06-15T06:16:36.552321Z"
    }
   },
   "outputs": [],
   "source": [
    "import pandas as pd"
   ]
  },
  {
   "cell_type": "markdown",
   "metadata": {},
   "source": [
    "# Try "
   ]
  },
  {
   "cell_type": "code",
   "execution_count": 14,
   "metadata": {
    "ExecuteTime": {
     "end_time": "2020-06-15T06:21:11.905083Z",
     "start_time": "2020-06-15T06:21:11.883964Z"
    }
   },
   "outputs": [],
   "source": [
    "sample1 = pd.DataFrame({\n",
    "    'age' : [30],\n",
    "    'job' : ['admin.'],\n",
    "    'marital' : ['married'],\n",
    "    'education' : ['high.school'],\n",
    "    'default' : ['no'],\n",
    "    'month' : ['may'],\n",
    "    'campaign' : [1],\n",
    "    'pdays' : ['Never contacted before'],\n",
    "    'poutcome' : ['nonexistent'],\n",
    "    'emp.var.rate' : [1.1],\n",
    "    'cons.price.idx' : [93.075],\n",
    "    'cons.conf.idx' : [-36.4],\n",
    "    'euribor3m' : [4.859],\n",
    "    'nr.employed' : [5099.1]\n",
    "})"
   ]
  },
  {
   "cell_type": "code",
   "execution_count": 15,
   "metadata": {
    "ExecuteTime": {
     "end_time": "2020-06-15T06:21:12.457667Z",
     "start_time": "2020-06-15T06:21:12.334018Z"
    }
   },
   "outputs": [
    {
     "data": {
      "text/plain": [
       "array([0.31218358])"
      ]
     },
     "execution_count": 15,
     "metadata": {},
     "output_type": "execute_result"
    }
   ],
   "source": [
    "loadModel.predict_proba(sample1)[:,1]"
   ]
  }
 ],
 "metadata": {
  "kernelspec": {
   "display_name": "Python 3",
   "language": "python",
   "name": "python3"
  },
  "language_info": {
   "codemirror_mode": {
    "name": "ipython",
    "version": 3
   },
   "file_extension": ".py",
   "mimetype": "text/x-python",
   "name": "python",
   "nbconvert_exporter": "python",
   "pygments_lexer": "ipython3",
   "version": "3.7.7"
  },
  "toc": {
   "base_numbering": 1,
   "nav_menu": {},
   "number_sections": true,
   "sideBar": true,
   "skip_h1_title": false,
   "title_cell": "Table of Contents",
   "title_sidebar": "Contents",
   "toc_cell": false,
   "toc_position": {},
   "toc_section_display": true,
   "toc_window_display": false
  }
 },
 "nbformat": 4,
 "nbformat_minor": 4
}
