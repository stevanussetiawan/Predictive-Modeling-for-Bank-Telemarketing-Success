{
 "cells": [
  {
   "cell_type": "markdown",
   "metadata": {},
   "source": [
    "<p style=\"font-size:40px\">4. Adjusting Threshold</p> <br>\n",
    "\n",
    "\n",
    "<p style=\"font-family:'Courier New'\">Pada jupyter notebook ini, saya akan menentukan threshold terbaik menurut masalah bisnis yang dihadapi. Dimana pada kasus ini, saya menginginkan model yang memiliki recall yang baik. \n",
    "\n",
    "><p style=\"font-family:'Courier New'\">Tujuan objektif dari jupyter notebook ini adalah menentukan threshold untuk model agar memiliki nilai recall yang tinggi."
   ]
  },
  {
   "cell_type": "code",
   "execution_count": 2,
   "metadata": {
    "ExecuteTime": {
     "end_time": "2020-06-08T18:03:30.980064Z",
     "start_time": "2020-06-08T18:03:30.960461Z"
    }
   },
   "outputs": [],
   "source": [
    "import pandas as pd\n",
    "import numpy as np\n",
    "import matplotlib.pyplot as plt\n",
    "import seaborn as sns\n",
    "\n",
    "from sklearn.metrics import make_scorer, plot_confusion_matrix, confusion_matrix, classification_report, f1_score, precision_score, recall_score, matthews_corrcoef, roc_auc_score\n",
    "\n",
    "from sklearn.model_selection import train_test_split, RandomizedSearchCV\n",
    "from sklearn.preprocessing import RobustScaler, binarize\n",
    "from imblearn.over_sampling import SMOTE\n",
    "from sklearn.metrics import precision_recall_curve\n",
    "from sklearn.preprocessing import binarize, OneHotEncoder\n",
    "\n",
    "from sklearn.compose import ColumnTransformer\n",
    "from imblearn.pipeline import Pipeline\n",
    "\n",
    "from sklearn.linear_model import LogisticRegression\n",
    "from sklearn.ensemble import RandomForestClassifier\n",
    "from xgboost import XGBClassifier\n",
    "\n",
    "import warnings\n",
    "warnings.filterwarnings(\"ignore\")"
   ]
  },
  {
   "cell_type": "markdown",
   "metadata": {},
   "source": [
    "# Dataset Splitting"
   ]
  },
  {
   "cell_type": "code",
   "execution_count": 3,
   "metadata": {
    "ExecuteTime": {
     "end_time": "2020-06-08T18:03:31.350592Z",
     "start_time": "2020-06-08T18:03:30.985120Z"
    }
   },
   "outputs": [],
   "source": [
    "bank = pd.read_csv('bank_clean.csv')\n",
    "\n",
    "X = bank.drop('y', axis = 1)\n",
    "y = bank['y'].map({'yes' : 1, 'no' : 0})\n",
    "\n",
    "X_train, X_test, y_train, y_test = train_test_split(X,y, test_size = 0.2, random_state = 101)"
   ]
  },
  {
   "cell_type": "markdown",
   "metadata": {},
   "source": [
    "# Preprocessing"
   ]
  },
  {
   "cell_type": "code",
   "execution_count": 4,
   "metadata": {
    "ExecuteTime": {
     "end_time": "2020-06-08T18:03:31.375861Z",
     "start_time": "2020-06-08T18:03:31.356283Z"
    }
   },
   "outputs": [],
   "source": [
    "numeric_transformer = Pipeline(steps=[\n",
    "    ('scaler', RobustScaler())])\n",
    "\n",
    "categorical_transformer = Pipeline(steps=[\n",
    "    ('onehot', OneHotEncoder(handle_unknown='ignore'))])\n",
    "\n",
    "preprocessor = ColumnTransformer(\n",
    "    transformers=[\n",
    "        ('num', numeric_transformer, ['emp.var.rate','euribor3m','nr.employed','cons.price.idx','cons.conf.idx','age']),\n",
    "        ('cat', categorical_transformer, ['month','pdays'])])"
   ]
  },
  {
   "cell_type": "markdown",
   "metadata": {},
   "source": [
    "# Evaluation Metrics\n",
    "\n",
    "<p style=\"font-family:'Courier New'\">Evaluation Metrics yang digunakan tidak banyak, hanya precision dan recall. Karena seperti yang telah disinggung sebelumnya, saya ingin menentukan model terbaik dari perspektif bisnis. "
   ]
  },
  {
   "cell_type": "code",
   "execution_count": 5,
   "metadata": {
    "ExecuteTime": {
     "end_time": "2020-06-08T18:03:31.512592Z",
     "start_time": "2020-06-08T18:03:31.380893Z"
    }
   },
   "outputs": [],
   "source": [
    "def evaluationMetrics(y_test, y_pred):\n",
    "    prec.append(precision_score(y_test, y_pred))\n",
    "    recall.append(recall_score(y_test, y_pred))"
   ]
  },
  {
   "cell_type": "code",
   "execution_count": 6,
   "metadata": {
    "ExecuteTime": {
     "end_time": "2020-06-08T18:03:31.594666Z",
     "start_time": "2020-06-08T18:03:31.516822Z"
    }
   },
   "outputs": [],
   "source": [
    "def find_thresh(model, X_test, y_test):\n",
    "    y_proba = model.predict_proba(X_test)\n",
    "    y_proba = y_proba[:,1]\n",
    "    prec, recall, thresh = precision_recall_curve(y_test, y_proba)\n",
    "    fScore = (2 * prec * recall) / (prec + recall)\n",
    "    idx = np.argmax(fScore)\n",
    "    \n",
    "    ##plot\n",
    "    plt.figure(figsize=(8, 8))\n",
    "    plt.title(\"Precision-Recall Curve\")\n",
    "    plt.plot(thresh, prec[:-1], \"b-\", label=\"Precision\")\n",
    "    plt.plot(thresh, recall[:-1], \"r-\", label=\"Recall\")\n",
    "    plt.ylabel(\"Score\")\n",
    "    plt.xlabel(\"Threshold\")\n",
    "    plt.legend(loc='best')\n",
    "    \n",
    "    return ('Best Threshold={}, F-Score={}'.format(thresh[idx], fScore[idx]))"
   ]
  },
  {
   "cell_type": "code",
   "execution_count": 7,
   "metadata": {
    "ExecuteTime": {
     "end_time": "2020-06-08T18:03:31.682055Z",
     "start_time": "2020-06-08T18:03:31.599660Z"
    }
   },
   "outputs": [],
   "source": [
    "metric_thresh = pd.DataFrame(index = ['Random Forest Classifier (with SMOTE)',\n",
    "                                             'XGB Classifier (with SMOTE)']) \n",
    "f1 = []\n",
    "prec = []\n",
    "recall = []\n",
    "matthews = []"
   ]
  },
  {
   "cell_type": "markdown",
   "metadata": {},
   "source": [
    "# Modeling\n",
    "\n",
    "<p style=\"font-family:'Courier New'\">Model yang digunakan adalah dua model terbaik di jupyter notebook sebelumnya. Yaitu Random Forest dan XGBoost dengan SMOTE."
   ]
  },
  {
   "cell_type": "code",
   "execution_count": 8,
   "metadata": {
    "ExecuteTime": {
     "end_time": "2020-06-08T18:03:31.768999Z",
     "start_time": "2020-06-08T18:03:31.694633Z"
    }
   },
   "outputs": [],
   "source": [
    "sm = SMOTE(random_state=101, sampling_strategy=1.0)"
   ]
  },
  {
   "cell_type": "markdown",
   "metadata": {},
   "source": [
    "## Random Forest Classifier"
   ]
  },
  {
   "cell_type": "code",
   "execution_count": 9,
   "metadata": {
    "ExecuteTime": {
     "end_time": "2020-06-08T18:04:30.340299Z",
     "start_time": "2020-06-08T18:03:31.774374Z"
    }
   },
   "outputs": [
    {
     "data": {
      "text/plain": [
       "Pipeline(memory=None,\n",
       "         steps=[('preprocessor',\n",
       "                 ColumnTransformer(n_jobs=None, remainder='drop',\n",
       "                                   sparse_threshold=0.3,\n",
       "                                   transformer_weights=None,\n",
       "                                   transformers=[('num',\n",
       "                                                  Pipeline(memory=None,\n",
       "                                                           steps=[('scaler',\n",
       "                                                                   RobustScaler(copy=True,\n",
       "                                                                                quantile_range=(25.0,\n",
       "                                                                                                75.0),\n",
       "                                                                                with_centering=True,\n",
       "                                                                                with_scaling=True))],\n",
       "                                                           verbose=False),\n",
       "                                                  ['emp.var.rate', 'euribor3m',\n",
       "                                                   'nr.employed',\n",
       "                                                   'cons....\n",
       "                 RandomForestClassifier(bootstrap=True, ccp_alpha=0.0,\n",
       "                                        class_weight=None, criterion='gini',\n",
       "                                        max_depth=8, max_features=0.8,\n",
       "                                        max_leaf_nodes=None, max_samples=None,\n",
       "                                        min_impurity_decrease=0.0,\n",
       "                                        min_impurity_split=None,\n",
       "                                        min_samples_leaf=35,\n",
       "                                        min_samples_split=2,\n",
       "                                        min_weight_fraction_leaf=0.0,\n",
       "                                        n_estimators=300, n_jobs=None,\n",
       "                                        oob_score=False, random_state=101,\n",
       "                                        verbose=0, warm_start=False))],\n",
       "         verbose=False)"
      ]
     },
     "execution_count": 9,
     "metadata": {},
     "output_type": "execute_result"
    }
   ],
   "source": [
    "rfc_tuned_smote = Pipeline(steps=[('preprocessor', preprocessor), ('sm', sm),\n",
    "                      ('rfc', RandomForestClassifier(random_state = 101, n_estimators = 300,\n",
    "                                                   max_features = 0.8, min_samples_leaf = 35, \n",
    "                                                     max_depth = 8))])\n",
    "\n",
    "rfc_tuned_smote.fit(X_train, y_train)"
   ]
  },
  {
   "cell_type": "code",
   "execution_count": 10,
   "metadata": {
    "ExecuteTime": {
     "end_time": "2020-06-08T18:04:31.350059Z",
     "start_time": "2020-06-08T18:04:30.344350Z"
    }
   },
   "outputs": [
    {
     "data": {
      "text/plain": [
       "'Best Threshold=0.6311458203482385, F-Score=0.5013723696248856'"
      ]
     },
     "execution_count": 10,
     "metadata": {},
     "output_type": "execute_result"
    },
    {
     "data": {
      "image/png": "[encoded data removed]",
      "text/plain": [
       "<Figure size 576x576 with 1 Axes>"
      ]
     },
     "metadata": {
      "needs_background": "light"
     },
     "output_type": "display_data"
    }
   ],
   "source": [
    "find_thresh(rfc_tuned_smote, X_test, y_test)"
   ]
  },
  {
   "cell_type": "code",
   "execution_count": 11,
   "metadata": {
    "ExecuteTime": {
     "end_time": "2020-06-08T18:04:31.851713Z",
     "start_time": "2020-06-08T18:04:31.353968Z"
    }
   },
   "outputs": [],
   "source": [
    "y_proba_test_rfc_tuned = rfc_tuned_smote.predict_proba(X_test)[:,1]\n",
    "y_pred_class_test_rfc_tuned = binarize([y_proba_test_rfc_tuned], 0.33)[0]\n",
    "evaluationMetrics(y_test, y_pred_class_test_rfc_tuned)"
   ]
  },
  {
   "cell_type": "code",
   "execution_count": 12,
   "metadata": {
    "ExecuteTime": {
     "end_time": "2020-06-08T18:04:31.903728Z",
     "start_time": "2020-06-08T18:04:31.854783Z"
    },
    "scrolled": false
   },
   "outputs": [
    {
     "name": "stdout",
     "output_type": "stream",
     "text": [
      "              precision    recall  f1-score   support\n",
      "\n",
      "           0       0.95      0.73      0.82      7279\n",
      "           1       0.26      0.71      0.38       959\n",
      "\n",
      "    accuracy                           0.72      8238\n",
      "   macro avg       0.60      0.72      0.60      8238\n",
      "weighted avg       0.87      0.72      0.77      8238\n",
      "\n"
     ]
    }
   ],
   "source": [
    "print(classification_report(y_test, y_pred_class_test_rfc_tuned))"
   ]
  },
  {
   "cell_type": "code",
   "execution_count": 13,
   "metadata": {
    "ExecuteTime": {
     "end_time": "2020-06-08T18:04:33.456060Z",
     "start_time": "2020-06-08T18:04:31.912390Z"
    }
   },
   "outputs": [],
   "source": [
    "y_proba_train_rfc_tuned = rfc_tuned_smote.predict_proba(X_train)[:,1]\n",
    "y_pred_class_train_rfc_tuned = binarize([y_proba_train_rfc_tuned], 0.33)[0]"
   ]
  },
  {
   "cell_type": "code",
   "execution_count": 14,
   "metadata": {
    "ExecuteTime": {
     "end_time": "2020-06-08T18:04:33.603017Z",
     "start_time": "2020-06-08T18:04:33.459137Z"
    }
   },
   "outputs": [
    {
     "name": "stdout",
     "output_type": "stream",
     "text": [
      "              precision    recall  f1-score   support\n",
      "\n",
      "           0       0.96      0.72      0.82     29269\n",
      "           1       0.25      0.74      0.37      3681\n",
      "\n",
      "    accuracy                           0.72     32950\n",
      "   macro avg       0.60      0.73      0.60     32950\n",
      "weighted avg       0.88      0.72      0.77     32950\n",
      "\n"
     ]
    }
   ],
   "source": [
    "print(classification_report(y_train, y_pred_class_train_rfc_tuned))"
   ]
  },
  {
   "cell_type": "markdown",
   "metadata": {},
   "source": [
    "## XGB Classifier"
   ]
  },
  {
   "cell_type": "code",
   "execution_count": 15,
   "metadata": {
    "ExecuteTime": {
     "end_time": "2020-06-08T18:04:45.133575Z",
     "start_time": "2020-06-08T18:04:33.606952Z"
    }
   },
   "outputs": [
    {
     "data": {
      "text/plain": [
       "Pipeline(memory=None,\n",
       "         steps=[('preprocessor',\n",
       "                 ColumnTransformer(n_jobs=None, remainder='drop',\n",
       "                                   sparse_threshold=0.3,\n",
       "                                   transformer_weights=None,\n",
       "                                   transformers=[('num',\n",
       "                                                  Pipeline(memory=None,\n",
       "                                                           steps=[('scaler',\n",
       "                                                                   RobustScaler(copy=True,\n",
       "                                                                                quantile_range=(25.0,\n",
       "                                                                                                75.0),\n",
       "                                                                                with_centering=True,\n",
       "                                                                                with_scaling=True))],\n",
       "                                                           verbose=False),\n",
       "                                                  ['emp.var.rate', 'euribor3m',\n",
       "                                                   'nr.employed',\n",
       "                                                   'cons....\n",
       "                               interaction_constraints=None, learning_rate=0.1,\n",
       "                               max_delta_step=0, max_depth=9,\n",
       "                               min_child_weight=1, missing=nan,\n",
       "                               monotone_constraints=None, n_estimators=200,\n",
       "                               n_jobs=0, num_parallel_tree=1,\n",
       "                               objective='binary:logistic', random_state=101,\n",
       "                               reg_alpha=10, reg_lambda=10, scale_pos_weight=1,\n",
       "                               subsample=0.5, tree_method=None,\n",
       "                               validate_parameters=False, verbosity=None))],\n",
       "         verbose=False)"
      ]
     },
     "execution_count": 15,
     "metadata": {},
     "output_type": "execute_result"
    }
   ],
   "source": [
    "xgb_tuned_smote = Pipeline(steps=[('preprocessor', preprocessor), ('sm', sm),\n",
    "                      ('xgb', XGBClassifier(random_state = 101, gamma = 4, learning_rate = 0.1, \n",
    "                                            max_depth = 9, n_estimators = 200,\n",
    "                                            reg_alpha = 10, reg_lambda = 10,\n",
    "                                            subsample = 0.5, colsample_bytree = 0.7))])\n",
    "\n",
    "xgb_tuned_smote.fit(X_train, y_train)"
   ]
  },
  {
   "cell_type": "code",
   "execution_count": 16,
   "metadata": {
    "ExecuteTime": {
     "end_time": "2020-06-08T18:04:45.836349Z",
     "start_time": "2020-06-08T18:04:45.152582Z"
    }
   },
   "outputs": [
    {
     "data": {
      "text/plain": [
       "'Best Threshold=0.4773365259170532, F-Score=0.49746192893401014'"
      ]
     },
     "execution_count": 16,
     "metadata": {},
     "output_type": "execute_result"
    },
    {
     "data": {
      "image/png": "[encoded data removed]",
      "text/plain": [
       "<Figure size 576x576 with 1 Axes>"
      ]
     },
     "metadata": {
      "needs_background": "light"
     },
     "output_type": "display_data"
    }
   ],
   "source": [
    "find_thresh(xgb_tuned_smote, X_test, y_test)"
   ]
  },
  {
   "cell_type": "code",
   "execution_count": 17,
   "metadata": {
    "ExecuteTime": {
     "end_time": "2020-06-08T18:04:46.012179Z",
     "start_time": "2020-06-08T18:04:45.839788Z"
    }
   },
   "outputs": [],
   "source": [
    "y_proba_test_xgb_tuned = xgb_tuned_smote.predict_proba(X_test)[:,1]\n",
    "y_pred_class_test_xgb_tuned = binarize([y_proba_test_xgb_tuned], 0.33)[0]\n",
    "evaluationMetrics(y_test, y_pred_class_test_xgb_tuned)"
   ]
  },
  {
   "cell_type": "code",
   "execution_count": 18,
   "metadata": {
    "ExecuteTime": {
     "end_time": "2020-06-08T18:04:46.165788Z",
     "start_time": "2020-06-08T18:04:46.016228Z"
    }
   },
   "outputs": [
    {
     "data": {
      "text/plain": [
       "array([[6030, 1249],\n",
       "       [ 328,  631]])"
      ]
     },
     "execution_count": 18,
     "metadata": {},
     "output_type": "execute_result"
    }
   ],
   "source": [
    "confusion_matrix(y_test, y_pred_class_test_xgb_tuned)"
   ]
  },
  {
   "cell_type": "code",
   "execution_count": 19,
   "metadata": {
    "ExecuteTime": {
     "end_time": "2020-06-08T18:04:46.225504Z",
     "start_time": "2020-06-08T18:04:46.169780Z"
    },
    "scrolled": true
   },
   "outputs": [
    {
     "name": "stdout",
     "output_type": "stream",
     "text": [
      "              precision    recall  f1-score   support\n",
      "\n",
      "           0       0.95      0.83      0.88      7279\n",
      "           1       0.34      0.66      0.44       959\n",
      "\n",
      "    accuracy                           0.81      8238\n",
      "   macro avg       0.64      0.74      0.66      8238\n",
      "weighted avg       0.88      0.81      0.83      8238\n",
      "\n"
     ]
    }
   ],
   "source": [
    "print(classification_report(y_test, y_pred_class_test_xgb_tuned))"
   ]
  },
  {
   "cell_type": "code",
   "execution_count": 20,
   "metadata": {
    "ExecuteTime": {
     "end_time": "2020-06-08T18:04:46.650311Z",
     "start_time": "2020-06-08T18:04:46.233568Z"
    }
   },
   "outputs": [],
   "source": [
    "y_proba_train_xgb_tuned = xgb_tuned_smote.predict_proba(X_train)[:,1]\n",
    "y_pred_class_train_xgb_tuned = binarize([y_proba_train_xgb_tuned], 0.33)[0]"
   ]
  },
  {
   "cell_type": "code",
   "execution_count": 21,
   "metadata": {
    "ExecuteTime": {
     "end_time": "2020-06-08T18:04:46.820921Z",
     "start_time": "2020-06-08T18:04:46.664143Z"
    }
   },
   "outputs": [
    {
     "name": "stdout",
     "output_type": "stream",
     "text": [
      "              precision    recall  f1-score   support\n",
      "\n",
      "           0       0.95      0.82      0.88     29269\n",
      "           1       0.33      0.69      0.45      3681\n",
      "\n",
      "    accuracy                           0.81     32950\n",
      "   macro avg       0.64      0.76      0.67     32950\n",
      "weighted avg       0.88      0.81      0.84     32950\n",
      "\n"
     ]
    }
   ],
   "source": [
    "print(classification_report(y_train, y_pred_class_train_xgb_tuned))"
   ]
  },
  {
   "cell_type": "code",
   "execution_count": 22,
   "metadata": {
    "ExecuteTime": {
     "end_time": "2020-06-08T18:04:46.843684Z",
     "start_time": "2020-06-08T18:04:46.827147Z"
    }
   },
   "outputs": [],
   "source": [
    "metric_thresh['Recall'] = recall\n",
    "metric_thresh['Precision'] = prec"
   ]
  },
  {
   "cell_type": "code",
   "execution_count": 23,
   "metadata": {
    "ExecuteTime": {
     "end_time": "2020-06-08T18:04:46.932578Z",
     "start_time": "2020-06-08T18:04:46.848233Z"
    }
   },
   "outputs": [
    {
     "data": {
      "text/html": [
       "<div>\n",
       "<style scoped>\n",
       "    .dataframe tbody tr th:only-of-type {\n",
       "        vertical-align: middle;\n",
       "    }\n",
       "\n",
       "    .dataframe tbody tr th {\n",
       "        vertical-align: top;\n",
       "    }\n",
       "\n",
       "    .dataframe thead th {\n",
       "        text-align: right;\n",
       "    }\n",
       "</style>\n",
       "<table border=\"1\" class=\"dataframe\">\n",
       "  <thead>\n",
       "    <tr style=\"text-align: right;\">\n",
       "      <th></th>\n",
       "      <th>Recall</th>\n",
       "      <th>Precision</th>\n",
       "    </tr>\n",
       "  </thead>\n",
       "  <tbody>\n",
       "    <tr>\n",
       "      <th>Random Forest Classifier (with SMOTE)</th>\n",
       "      <td>0.712200</td>\n",
       "      <td>0.255136</td>\n",
       "    </tr>\n",
       "    <tr>\n",
       "      <th>XGB Classifier (with SMOTE)</th>\n",
       "      <td>0.657977</td>\n",
       "      <td>0.335638</td>\n",
       "    </tr>\n",
       "  </tbody>\n",
       "</table>\n",
       "</div>"
      ],
      "text/plain": [
       "                                         Recall  Precision\n",
       "Random Forest Classifier (with SMOTE)  0.712200   0.255136\n",
       "XGB Classifier (with SMOTE)            0.657977   0.335638"
      ]
     },
     "execution_count": 23,
     "metadata": {},
     "output_type": "execute_result"
    }
   ],
   "source": [
    "metric_thresh"
   ]
  },
  {
   "cell_type": "markdown",
   "metadata": {},
   "source": [
    "<p style=\"font-family:'Courier New'\">Cara saya menentukan threshold berdasarkan dari recall dan precision merujuk dengan paper [1], dimana menurut Hayes, dkk dan juga dibahas di paper [2] oleh Leuser, dkk:\n",
    "    \n",
    "* $recall > 60\\%$ (<i>acceptable</i>) \n",
    "* $recall > 70\\%$ (<i>good</i>)\n",
    "* $recall > 80\\%$ (<i>excelent</i>) <br>\n",
    "\n",
    "<p style=\"font-family:'Courier New'\">sedangkan untuk precision:\n",
    "    \n",
    "* $precision > 20\\%$ (<i>acceptable</i>) \n",
    "* $precision > 30\\%$ (<i>good</i>)\n",
    "* $precision > 40\\%$ (<i>excelent</i>) \n",
    "\n",
    "<p style=\"font-family:'Courier New'\">Berhubung objektif metrik saya adalah recall, maka yang saya butuhkan adalah recall yang bagus. Yang artinya dalam kasus ini Random Forest Classifier memadai itu. \n",
    "\n",
    "[1] Hayes, J.H., Dekhtyar, A.: Humans in the Traceability Loop: Can’t Live with ’em, Can’t Live without ’em. In: Proceedings of the 3rd International Workshop on Traceability in Emerging Forms of Software Engineering, pp. 20–23. ACM, New York (2005)\n",
    "\n",
    "[2] Leuser J., Ott D. (2010) Tackling Semi-automatic Trace Recovery for Large Specifications. In: Wieringa R., Persson A. (eds) Requirements Engineering: Foundation for Software Quality. REFSQ 2010. Lecture Notes in Computer Science, vol 6182. Springer, Berlin, Heidelberg"
   ]
  },
  {
   "cell_type": "code",
   "execution_count": null,
   "metadata": {},
   "outputs": [],
   "source": []
  }
 ],
 "metadata": {
  "kernelspec": {
   "display_name": "Python 3",
   "language": "python",
   "name": "python3"
  },
  "language_info": {
   "codemirror_mode": {
    "name": "ipython",
    "version": 3
   },
   "file_extension": ".py",
   "mimetype": "text/x-python",
   "name": "python",
   "nbconvert_exporter": "python",
   "pygments_lexer": "ipython3",
   "version": "3.7.7"
  },
  "toc": {
   "base_numbering": 1,
   "nav_menu": {},
   "number_sections": true,
   "sideBar": true,
   "skip_h1_title": false,
   "title_cell": "Table of Contents",
   "title_sidebar": "Contents",
   "toc_cell": false,
   "toc_position": {},
   "toc_section_display": true,
   "toc_window_display": false
  }
 },
 "nbformat": 4,
 "nbformat_minor": 4
}
